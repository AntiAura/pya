{
 "cells": [
  {
   "cell_type": "code",
   "execution_count": 1,
   "metadata": {},
   "outputs": [],
   "source": [
    "from pya import *\n",
    "import numpy as np\n",
    "import matplotlib.pyplot as plt\n",
    "from ipywidgets import interact, fixed, widgets\n",
    "%matplotlib qt5\n",
    "%matplotlib inline\n",
    "import pandas as pd\n",
    "import pyaudio\n",
    "from collections import deque\n",
    "import time"
   ]
  },
  {
   "cell_type": "code",
   "execution_count": 2,
   "metadata": {},
   "outputs": [],
   "source": [
    "class SequenceStream2():\n",
    "    def __init__(self, bs = 256,  sr = 44100, channels = 1):\n",
    "        self.pa = pyaudio.PyAudio()\n",
    "        self.outputChannels =  channels # Work on this later. \n",
    "        self.fs = sr; self.chunk = bs # The smaller the smaller latency \n",
    "        self.audioformat = pyaudio.paInt16\n",
    "        self.emptybuffer = np.zeros(self.chunk * self.outputChannels).astype(np.int16)\n",
    "  \n",
    "    def openstream(self):\n",
    "        try:  \n",
    "            self.playStream.stop_stream()\n",
    "            self.playStream.close()\n",
    "        except AttributeError:\n",
    "            pass\n",
    "        self.dataflag = False\n",
    "        self.framecount = 0\n",
    "        self.len = -1 \n",
    "        self.playStream = self.pa.open(\n",
    "            format = self.audioformat,\n",
    "            channels = self.outputChannels, \n",
    "            rate = self.fs,\n",
    "            input = False,\n",
    "            output = True,\n",
    "            output_device_index=1,\n",
    "            frames_per_buffer = self.chunk,\n",
    "            stream_callback=self._playcallback\n",
    "           )\n",
    "        self.playStream.start_stream()\n",
    "\n",
    "    def play(self, onset, sig):\n",
    "        play_data = self.mixing_function(onset, sig)\n",
    "        play_data = (32767 * play_data).astype(np.int16)\n",
    "        self.play_data = self.makechunk(play_data, self.chunk)\n",
    "        self.framecount = 0\n",
    "        self.len = len(self.play_data)\n",
    "#         self.dataflag = True\n",
    "\n",
    "\n",
    "    def mixing_function(self, onset, sig):\n",
    "        maxlen = np.max([o + len(s) for o, s in zip(onset, sig)])\n",
    "        result =  np.zeros(maxlen)\n",
    "        for i in range(len(onset)):\n",
    "            result[onset[i]:onset[i] + len(sig[i])] += sig[i] \n",
    "        return result\n",
    "\n",
    "    def mix(self, onset, sig):\n",
    "        siglengths = np.vectorize(len)(sig)\n",
    "        maxlen = max(onset + siglengths)\n",
    "        result = np.zeros(maxlen)\n",
    "        for i in range(len(sig)):\n",
    "            result[onset[i]: onset[i]+siglengths[i]] += sig[i]\n",
    "        return result\n",
    "\n",
    "\n",
    "    def makechunk(self, lst, chunk):\n",
    "        result = []\n",
    "        for i in np.arange(0, len(lst), chunk):\n",
    "            temp = lst[i:i + chunk]\n",
    "            if len(temp) < chunk:\n",
    "                temp = np.pad(temp, (0, chunk - len(temp)), 'constant')\n",
    "            result.append(temp)\n",
    "        return result\n",
    "\n",
    "    \n",
    "    def _playcallback(self, in_data, frame_count, time_info, flag):  \n",
    "        if (self.framecount < self.len):\n",
    "            out_data = self.play_data[self.framecount]\n",
    "\n",
    "            self.framecount +=1\n",
    "        else:\n",
    "            out_data = self.emptybuffer\n",
    "        return bytes(out_data), pyaudio.paContinue\n",
    "\n",
    "    def closestream(self):\n",
    "        try: # To prevent self.playStream not created before stop button pressed\n",
    "            self.playStream.stop_stream()\n",
    "            self.playStream.close()\n",
    "            print (\"Play Stream Stopped. \")\n",
    "        except AttributeError:\n",
    "            print (\"No stream, stop button did nothing. \")"
   ]
  },
  {
   "cell_type": "code",
   "execution_count": 8,
   "metadata": {},
   "outputs": [],
   "source": [
    "# Try snap with lots of triggers. \n",
    "astereo = Asig(\"samples/stereoTest.wav\", label='stereo')\n",
    "# astereo.sig.shape[1]\n",
    "# asen.size()\n",
    "# onset = [0, 3000,10000]\n",
    "# sig = [asen.sig, asen.sig, asen.sig]\n",
    "# stream = SequenceStream2(bs = 512, sr = 24000)\n",
    "# stream.openstream()\n"
   ]
  },
  {
   "cell_type": "code",
   "execution_count": 10,
   "metadata": {},
   "outputs": [
    {
     "data": {
      "text/plain": [
       "Asig('stereo'): 2 x 176400 @ 44100 Hz = 4.000 s"
      ]
     },
     "execution_count": 10,
     "metadata": {},
     "output_type": "execute_result"
    },
    {
     "data": {
      "image/png": "[encoded data removed]",
      "text/plain": [
       "<Figure size 432x288 with 1 Axes>"
      ]
     },
     "metadata": {
      "needs_background": "light"
     },
     "output_type": "display_data"
    }
   ],
   "source": [
    "astereo.plot()"
   ]
  },
  {
   "cell_type": "code",
   "execution_count": 5,
   "metadata": {},
   "outputs": [
    {
     "data": {
      "text/plain": [
       "1"
      ]
     },
     "execution_count": 5,
     "metadata": {},
     "output_type": "execute_result"
    }
   ],
   "source": [
    "asen = Asig(\"samples/sentence.wav\", label='stereo')\n",
    "asen.channels"
   ]
  },
  {
   "cell_type": "code",
   "execution_count": 6,
   "metadata": {},
   "outputs": [
    {
     "name": "stdout",
     "output_type": "stream",
     "text": [
      "resample as sr is exotic\n",
      "Play sound. \n"
     ]
    },
    {
     "data": {
      "text/plain": [
       "Asig('stereo'): 1 x 61632 @ 24000 Hz = 2.568 s"
      ]
     },
     "execution_count": 6,
     "metadata": {},
     "output_type": "execute_result"
    }
   ],
   "source": [
    "asen.play()"
   ]
  },
  {
   "cell_type": "code",
   "execution_count": null,
   "metadata": {},
   "outputs": [],
   "source": [
    "t0 = time.time()\n",
    "stream.play(onset, sig)\n",
    "print (time.time() - t0)\n",
    "# plt.plot(a[4])"
   ]
  },
  {
   "cell_type": "code",
   "execution_count": null,
   "metadata": {},
   "outputs": [],
   "source": [
    "print (a[3].dtype)"
   ]
  },
  {
   "cell_type": "code",
   "execution_count": null,
   "metadata": {},
   "outputs": [],
   "source": [
    "stream.closestream()"
   ]
  },
  {
   "cell_type": "code",
   "execution_count": null,
   "metadata": {},
   "outputs": [],
   "source": [
    "asen.play()"
   ]
  },
  {
   "cell_type": "code",
   "execution_count": null,
   "metadata": {},
   "outputs": [],
   "source": [
    "asen.play().plot()"
   ]
  },
  {
   "cell_type": "code",
   "execution_count": null,
   "metadata": {},
   "outputs": [],
   "source": [
    "asen.play2()"
   ]
  },
  {
   "cell_type": "code",
   "execution_count": null,
   "metadata": {},
   "outputs": [],
   "source": [
    "# sig1 = 0.3 * np.sin(2*np.pi * 300 * np.linspace(0,1,24000 * 2))\n",
    "# sig2 = 0.3 * np.sin(2*np.pi * 6000 * np.linspace(0,1,24000 * 2))\n",
    "# sig3 = 0.3 * np.random.random(24000 * 3) - 0.15\n",
    "onset = [0, 24000, 48000]\n",
    "sig = [asen.sig, asen.sig, asen.sig]"
   ]
  },
  {
   "cell_type": "code",
   "execution_count": null,
   "metadata": {},
   "outputs": [],
   "source": [
    "stream = SequenceStream(bs = 512, sr = 24000)\n",
    "stream.openstream()\n",
    "stream.play(onset, sig)"
   ]
  },
  {
   "cell_type": "code",
   "execution_count": null,
   "metadata": {},
   "outputs": [],
   "source": [
    "stream.closestream()"
   ]
  },
  {
   "cell_type": "code",
   "execution_count": null,
   "metadata": {},
   "outputs": [],
   "source": [
    "plt.plot(sig1, 'r');plt.plot(sig2, 'b');plt.plot(sig3, 'g')"
   ]
  },
  {
   "cell_type": "code",
   "execution_count": null,
   "metadata": {},
   "outputs": [],
   "source": [
    "\n",
    "# onset = np.array([0, 2000, 40000])\n",
    "# sig = np.array([sig2, sig1, sig3])\n",
    "# signal1 = np.array([1,2,3,4])\n",
    "# signal2 = np.array([5,5,5])\n",
    "# signal3 = np.array([7,7,7,7])\n",
    "# sig = np.array([signal1,signal2,signal3])\n",
    "\n",
    "def mixing_function(sig,onset):\n",
    "    maxlen = np.max([o + len(s) for o, s in zip(onset, sig)])\n",
    "    result =  np.zeros(maxlen)\n",
    "    for i in range(len(onset)):\n",
    "        result[onset[i]:onset[i] + len(sig[i])] += sig[i] \n",
    "    return result\n",
    "\n",
    "mixed_sig = mixing_function(sig, onset)\n"
   ]
  },
  {
   "cell_type": "code",
   "execution_count": null,
   "metadata": {},
   "outputs": [],
   "source": [
    "# %timeit mixed_sig = mixing_function(sig, onset)"
   ]
  },
  {
   "cell_type": "code",
   "execution_count": null,
   "metadata": {},
   "outputs": [],
   "source": [
    "plt.plot(mixed_sig)"
   ]
  },
  {
   "cell_type": "code",
   "execution_count": null,
   "metadata": {},
   "outputs": [],
   "source": [
    "maxlen = np.max([o + len(l) for o, l in zip(onset, sig)])\n",
    "mixed_sig =  np.zeros(maxlen)\n",
    "for i in range(len(onset)):\n",
    "    mixed_sig[onset[i]:onset[i] + len(sig[i])] += sig[i] \n",
    "mixed_sig\n",
    "# for i in mixed_sig:\n",
    "#     print (i)"
   ]
  },
  {
   "cell_type": "code",
   "execution_count": null,
   "metadata": {},
   "outputs": [],
   "source": [
    "maxlen = np.max([o + len(l) for o, l in zip(onset, sig)])\n",
    "result =  np.zeros(maxlen)\n",
    "result = []\n",
    "\n",
    "for i in range(len(onset)):\n",
    "    mixed_sig[onset[i]:onset[i] + len(sig[i])] += sig[i] \n",
    "mixed_sig"
   ]
  },
  {
   "cell_type": "code",
   "execution_count": null,
   "metadata": {},
   "outputs": [],
   "source": [
    "signal1 = np.array([1,2,3,4])\n",
    "signal2 = np.array([5,5,5])\n",
    "signal3 = np.array([7,7,7,7])\n",
    "onset(0, 2, 8)\n",
    "\n",
    "result = np.array([1,2,8,9,5,0,0,0,7,7,7,7])\n",
    "print ('nothing')"
   ]
  },
  {
   "cell_type": "code",
   "execution_count": null,
   "metadata": {},
   "outputs": [],
   "source": [
    "plt.plot(sig_stacked[0])"
   ]
  },
  {
   "cell_type": "code",
   "execution_count": null,
   "metadata": {},
   "outputs": [],
   "source": [
    "plt.plot(sig_stacked[0], 'r');plt.plot(sig_stacked[0], 'b');plt.plot(sig_stacked[0], 'g')"
   ]
  },
  {
   "cell_type": "code",
   "execution_count": null,
   "metadata": {},
   "outputs": [],
   "source": [
    "%timeit maxlen = np.max([o + len(l) for o, l in zip(onset, sig)])"
   ]
  },
  {
   "cell_type": "code",
   "execution_count": null,
   "metadata": {},
   "outputs": [],
   "source": [
    "aseq = np.zeros(1024)\n",
    "# dq = deque([aseq, aseq, aseq, aseq], maxlen=4)\n",
    "dq = deque([1, 2, 3, 4], maxlen=4)"
   ]
  },
  {
   "cell_type": "code",
   "execution_count": null,
   "metadata": {},
   "outputs": [],
   "source": [
    "dq = deque([1, 2, 3, 4], maxlen=4)"
   ]
  },
  {
   "cell_type": "code",
   "execution_count": null,
   "metadata": {},
   "outputs": [],
   "source": [
    "print (dq[0])\n",
    "dq.rotate(-1)\n",
    "dq[-1] = 5\n",
    "print (dq[0])\n",
    "dq.rotate(-1)\n",
    "dq[-1] = 6\n",
    "print (dq[0])\n",
    "dq.rotate(-1)\n",
    "dq[-1] = 7\n",
    "print (dq[0])"
   ]
  },
  {
   "cell_type": "code",
   "execution_count": null,
   "metadata": {},
   "outputs": [],
   "source": [
    "dq[-1] = 5\n",
    "dq"
   ]
  },
  {
   "cell_type": "code",
   "execution_count": null,
   "metadata": {},
   "outputs": [],
   "source": [
    "print (b)"
   ]
  },
  {
   "cell_type": "code",
   "execution_count": null,
   "metadata": {},
   "outputs": [],
   "source": [
    "import numpy as np\n",
    "from time import time\n",
    "np.random.seed(42)\n",
    "\n",
    "def mixing_function(sig, onset):\n",
    "    maxlen = np.max([o + len(s) for o, s in zip(onset, sig)])\n",
    "    result =  np.zeros(maxlen)\n",
    "    for i in range(len(onset)):\n",
    "        result[onset[i]:onset[i] + len(sig[i])] += sig[i] \n",
    "    return result\n",
    "\n",
    "def mix(sig, onset):\n",
    "    siglengths = np.vectorize(len)(sig)\n",
    "    maxlen = max(onset + siglengths)\n",
    "    result = np.zeros(maxlen)\n",
    "    for i in range(len(sig)):\n",
    "        result[onset[i]: onset[i]+siglengths[i]] += sig[i]\n",
    "    return result\n",
    "\n",
    "\n",
    "sigbig = [np.random.randn(np.random.randint(1000, 10000)) for _ in range(10000)]\n",
    "onsetbig = np.random.randint(0, 10000, size=10000)\n",
    "\n",
    "assert all(mixing_function(sigbig, onsetbig) == mix(sigbig, onsetbig))\n",
    "\n",
    "%timeit result = mixing_function(sigbig, onsetbig)\n",
    "%timeit result = mix(sigbig, onsetbig)\n",
    "\n"
   ]
  },
  {
   "cell_type": "code",
   "execution_count": 41,
   "metadata": {},
   "outputs": [],
   "source": [
    "a = np.array(([1,10],[2,20],[3,30], [4,40]))"
   ]
  },
  {
   "cell_type": "code",
   "execution_count": 42,
   "metadata": {},
   "outputs": [
    {
     "data": {
      "text/plain": [
       "(4, 2)"
      ]
     },
     "execution_count": 42,
     "metadata": {},
     "output_type": "execute_result"
    }
   ],
   "source": [
    "a.shape"
   ]
  },
  {
   "cell_type": "code",
   "execution_count": 43,
   "metadata": {},
   "outputs": [],
   "source": [
    "b = a.reshape(a.shape[0]*  a.shape[1])"
   ]
  },
  {
   "cell_type": "code",
   "execution_count": 44,
   "metadata": {},
   "outputs": [
    {
     "data": {
      "text/plain": [
       "array([ 1, 10,  2, 20,  3, 30,  4, 40])"
      ]
     },
     "execution_count": 44,
     "metadata": {},
     "output_type": "execute_result"
    }
   ],
   "source": [
    "b"
   ]
  },
  {
   "cell_type": "code",
   "execution_count": 47,
   "metadata": {},
   "outputs": [],
   "source": [
    "a *= 5"
   ]
  },
  {
   "cell_type": "code",
   "execution_count": 49,
   "metadata": {},
   "outputs": [],
   "source": [
    "b += 12"
   ]
  },
  {
   "cell_type": "code",
   "execution_count": 50,
   "metadata": {},
   "outputs": [
    {
     "data": {
      "text/plain": [
       "array([[ 22, 112],\n",
       "       [ 32, 212],\n",
       "       [ 42, 312],\n",
       "       [ 52, 412]])"
      ]
     },
     "execution_count": 50,
     "metadata": {},
     "output_type": "execute_result"
    }
   ],
   "source": [
    "a\n"
   ]
  },
  {
   "cell_type": "code",
   "execution_count": null,
   "metadata": {},
   "outputs": [],
   "source": []
  }
 ],
 "metadata": {
  "kernelspec": {
   "display_name": "Python 3",
   "language": "python",
   "name": "python3"
  },
  "language_info": {
   "codemirror_mode": {
    "name": "ipython",
    "version": 3
   },
   "file_extension": ".py",
   "mimetype": "text/x-python",
   "name": "python",
   "nbconvert_exporter": "python",
   "pygments_lexer": "ipython3",
   "version": "3.7.2"
  }
 },
 "nbformat": 4,
 "nbformat_minor": 2
}
