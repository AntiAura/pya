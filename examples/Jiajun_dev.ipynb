{
 "cells": [
  {
   "cell_type": "code",
   "execution_count": null,
   "metadata": {},
   "outputs": [],
   "source": [
    "from pya import *\n",
    "import numpy as np\n",
    "import matplotlib.pyplot as plt\n",
    "from ipywidgets import interact, fixed, widgets\n",
    "%matplotlib qt5\n",
    "%matplotlib inline\n",
    "import pandas as pd\n",
    "import pyaudio\n",
    "from collections import deque\n",
    "import time"
   ]
  },
  {
   "cell_type": "code",
   "execution_count": null,
   "metadata": {},
   "outputs": [],
   "source": [
    "# Try snap with lots of triggers. \n",
    "astereo = Asig(\"samples/stereoTest.wav\", label='stereo')\n",
    "asen = Asig(\"samples/sentence.wav\", label='sentence')\n",
    "onset = [0, 24000, 48000, 54032]\n",
    "seq = [asen, asen, astereo, asen]\n",
<<<<<<< HEAD
    "aserver = Aserver(bs = 512, sr = 24000)\n",
    "aserver.openstream().volume(amp = 0.4).play(onset, seq)"
=======
    "aserver = Aserver(bs=512, sr=24000)\n",
    "aserver.open_stream()\n",
    "aserver.play(onset, seq)"
>>>>>>> 9bd157abbd48e45ab890b8c8b16662ca96392663
   ]
  },
  {
   "cell_type": "code",
   "execution_count": null,
   "metadata": {},
   "outputs": [],
   "source": [
    "aserver.close_server()"
   ]
  },
  {
   "cell_type": "code",
   "execution_count": null,
   "metadata": {},
   "outputs": [],
   "source": [
    "aserver"
   ]
  },
  {
   "cell_type": "code",
   "execution_count": null,
   "metadata": {},
   "outputs": [],
   "source": [
    "asen = Asig(\"samples/sentence.wav\", label='sentence')\n",
    "astereo = Asig(\"samples/stereoTest.wav\", label='stereo')\n",
    "onset = [0, 24000, 48000]\n",
    "seq = [asen, asen, asen]\n",
    "stream = SequenceStream2(bs = 512, sr = 24000)\n",
    "stream.open_stream()\n",
    "stream.play(onset, seq)"
   ]
  },
  {
   "cell_type": "code",
   "execution_count": null,
   "metadata": {},
   "outputs": [],
   "source": [
    "astereo = Asig(\"samples/stereoTest.wav\", label='stereo')\n",
    "astereo"
   ]
  },
  {
   "cell_type": "code",
   "execution_count": null,
   "metadata": {},
   "outputs": [],
   "source": [
    "astereo[0:20000].play()"
   ]
  },
  {
   "cell_type": "code",
   "execution_count": null,
   "metadata": {},
   "outputs": [],
   "source": [
    "a = astereo.sig\n",
    "a_slice = a[0:20000]\n",
    "plt.plot(a)\n",
    "plt.plot(a_slice)\n",
    "print (a_slice)"
   ]
  },
  {
   "cell_type": "code",
   "execution_count": null,
   "metadata": {},
   "outputs": [],
   "source": [
    "asen = Asig(\"samples/sentence.wav\", label='sentence')\n",
    "asen.samples"
   ]
  },
  {
   "cell_type": "code",
   "execution_count": null,
   "metadata": {},
   "outputs": [],
   "source": [
    "asen[0:20000].play()"
   ]
  },
  {
   "cell_type": "code",
   "execution_count": null,
   "metadata": {},
   "outputs": [],
   "source": [
    "asen.stop()"
   ]
  },
  {
   "cell_type": "code",
   "execution_count": null,
   "metadata": {},
   "outputs": [],
   "source": [
    "# sig1 = 0.3 * np.sin(2*np.pi * 300 * np.linspace(0,1,24000 * 2))\n",
    "# sig2 = 0.3 * np.sin(2*np.pi * 6000 * np.linspace(0,1,24000 * 2))\n",
    "# sig3 = 0.3 * np.random.random(24000 * 3) - 0.15\n",
    "onset = [0, 24000, 48000]\n",
    "# sig = [asen.sig, asen.sig, astereo.sig]\n",
    "sig = [asen, asen, astereo]"
   ]
  },
  {
   "cell_type": "code",
   "execution_count": null,
   "metadata": {},
   "outputs": [],
   "source": [
    "stream = SequenceStream2(bs = 512, sr = 24000)\n",
    "stream.open_stream()\n",
    "stream.play(onset, sig)"
   ]
  },
  {
   "cell_type": "code",
   "execution_count": null,
   "metadata": {},
   "outputs": [],
   "source": [
    "astereo.overwrite(astereo.sig[:, 0])\n",
    "print (astereo.channels)"
   ]
  },
  {
   "cell_type": "code",
   "execution_count": null,
   "metadata": {},
   "outputs": [],
   "source": [
    "astereo.plot()"
   ]
  },
  {
   "cell_type": "code",
   "execution_count": null,
   "metadata": {},
   "outputs": [],
   "source": [
    "astereo.channels"
   ]
  },
  {
   "cell_type": "code",
   "execution_count": null,
   "metadata": {},
   "outputs": [],
   "source": [
    "stream.close_stream()"
   ]
  },
  {
   "cell_type": "code",
   "execution_count": null,
   "metadata": {},
   "outputs": [],
   "source": [
    "plt.plot(sig1, 'r');plt.plot(sig2, 'b');plt.plot(sig3, 'g')"
   ]
  },
  {
   "cell_type": "code",
   "execution_count": null,
   "metadata": {},
   "outputs": [],
   "source": [
    "# %timeit mixed_sig = mixing_function(sig, onset)"
   ]
  },
  {
   "cell_type": "code",
   "execution_count": null,
   "metadata": {},
   "outputs": [],
   "source": [
    "plt.plot(mixed_sig)"
   ]
  },
  {
   "cell_type": "code",
   "execution_count": null,
   "metadata": {},
   "outputs": [],
   "source": [
    "maxlen = np.max([o + len(l) for o, l in zip(onset, sig)])\n",
    "mixed_sig =  np.zeros(maxlen)\n",
    "for i in range(len(onset)):\n",
    "    mixed_sig[onset[i]:onset[i] + len(sig[i])] += sig[i] \n",
    "mixed_sig\n",
    "# for i in mixed_sig:\n",
    "#     print (i)"
   ]
  },
  {
   "cell_type": "code",
   "execution_count": null,
   "metadata": {},
   "outputs": [],
   "source": [
    "maxlen = np.max([o + len(l) for o, l in zip(onset, sig)])\n",
    "result =  np.zeros(maxlen)\n",
    "result = []\n",
    "\n",
    "for i in range(len(onset)):\n",
    "    mixed_sig[onset[i]:onset[i] + len(sig[i])] += sig[i] \n",
    "mixed_sig"
   ]
  },
  {
   "cell_type": "code",
   "execution_count": null,
   "metadata": {},
   "outputs": [],
   "source": [
    "signal1 = np.array([1,2,3,4])\n",
    "signal2 = np.array([5,5,5])\n",
    "signal3 = np.array([7,7,7,7])\n",
    "onset(0, 2, 8)\n",
    "\n",
    "result = np.array([1,2,8,9,5,0,0,0,7,7,7,7])\n",
    "print ('nothing')"
   ]
  },
  {
   "cell_type": "code",
   "execution_count": null,
   "metadata": {},
   "outputs": [],
   "source": [
    "plt.plot(sig_stacked[0])"
   ]
  },
  {
   "cell_type": "code",
   "execution_count": null,
   "metadata": {},
   "outputs": [],
   "source": [
    "plt.plot(sig_stacked[0], 'r');plt.plot(sig_stacked[0], 'b');plt.plot(sig_stacked[0], 'g')"
   ]
  },
  {
   "cell_type": "code",
   "execution_count": null,
   "metadata": {},
   "outputs": [],
   "source": [
    "%timeit maxlen = np.max([o + len(l) for o, l in zip(onset, sig)])"
   ]
  },
  {
   "cell_type": "code",
   "execution_count": null,
   "metadata": {},
   "outputs": [],
   "source": [
    "aseq = np.zeros(1024)\n",
    "# dq = deque([aseq, aseq, aseq, aseq], maxlen=4)\n",
    "dq = deque([1, 2, 3, 4], maxlen=4)"
   ]
  },
  {
   "cell_type": "code",
   "execution_count": null,
   "metadata": {},
   "outputs": [],
   "source": [
    "dq = deque([1, 2, 3, 4], maxlen=4)"
   ]
  },
  {
   "cell_type": "code",
   "execution_count": null,
   "metadata": {},
   "outputs": [],
   "source": [
    "print (dq[0])\n",
    "dq.rotate(-1)\n",
    "dq[-1] = 5\n",
    "print (dq[0])\n",
    "dq.rotate(-1)\n",
    "dq[-1] = 6\n",
    "print (dq[0])\n",
    "dq.rotate(-1)\n",
    "dq[-1] = 7\n",
    "print (dq[0])"
   ]
  },
  {
   "cell_type": "code",
   "execution_count": null,
   "metadata": {},
   "outputs": [],
   "source": [
    "dq[-1] = 5\n",
    "dq"
   ]
  },
  {
   "cell_type": "code",
   "execution_count": null,
   "metadata": {},
   "outputs": [],
   "source": [
    "print (b)"
   ]
  },
  {
   "cell_type": "code",
   "execution_count": null,
   "metadata": {},
   "outputs": [],
   "source": [
    "import numpy as np\n",
    "from time import time\n",
    "np.random.seed(42)\n",
    "\n",
    "def mixing_function(sig, onset):\n",
    "    maxlen = np.max([o + len(s) for o, s in zip(onset, sig)])\n",
    "    result =  np.zeros(maxlen)\n",
    "    for i in range(len(onset)):\n",
    "        result[onset[i]:onset[i] + len(sig[i])] += sig[i] \n",
    "    return result\n",
    "\n",
    "def mix(sig, onset):\n",
    "    siglengths = np.vectorize(len)(sig)\n",
    "    maxlen = max(onset + siglengths)\n",
    "    result = np.zeros(maxlen)\n",
    "    for i in range(len(sig)):\n",
    "        result[onset[i]: onset[i]+siglengths[i]] += sig[i]\n",
    "    return result\n",
    "\n",
    "\n",
    "sigbig = [np.random.randn(np.random.randint(1000, 10000)) for _ in range(10000)]\n",
    "onsetbig = np.random.randint(0, 10000, size=10000)\n",
    "\n",
    "assert all(mixing_function(sigbig, onsetbig) == mix(sigbig, onsetbig))\n",
    "\n",
    "%timeit result = mixing_function(sigbig, onsetbig)\n",
    "%timeit result = mix(sigbig, onsetbig)\n",
    "\n"
   ]
  },
  {
   "cell_type": "code",
   "execution_count": null,
   "metadata": {},
   "outputs": [],
   "source": [
    "a = np.array(([1,10],[2,20],[3,30], [4,40]))"
   ]
  },
  {
   "cell_type": "code",
   "execution_count": null,
   "metadata": {},
   "outputs": [],
   "source": [
    "import scipy.interpolate\n",
    "def resample2(sig, target_sr=44100, rate=1, kind='linear'):\n",
    "    # This only work for single channel. \n",
    "    times = np.arange(sig.samples )/sig.sr\n",
    "    tsel = np.arange(sig.samples/sig.sr * target_sr/rate)*rate/target_sr\n",
    "    if sig.channels == 1:\n",
    "        interp_fn = scipy.interpolate.interp1d(times, sig.sig, kind=kind, \n",
    "                assume_sorted=True, bounds_error=False, fill_value=sig.sig[-1])\n",
    "        return Asig(interp_fn(tsel), target_sr, label=sig.label+\"_resampled\")\n",
    "    else:\n",
    "        new_sig = np.ndarray(shape = (int(sig.samples/sig.sr * target_sr/rate), sig.channels))\n",
    "        for i in range(sig.channels):\n",
    "            interp_fn = scipy.interpolate.interp1d(times, sig.sig[:,i], kind=kind, \n",
    "                    assume_sorted=True, bounds_error=False, fill_value=sig.sig[-1, i])\n",
    "            new_sig[:, i] = interp_fn(tsel)\n",
    "        return Asig(new_sig, target_sr, label=sig.label+\"_resampled\", channels = new_sig.shape[1])"
   ]
  },
  {
   "cell_type": "code",
   "execution_count": null,
   "metadata": {},
   "outputs": [],
   "source": [
    "astereo = Asig(\"samples/stereoTest.wav\", label='stereo')\n",
    "astereo.channels"
   ]
  },
  {
   "cell_type": "code",
   "execution_count": null,
   "metadata": {},
   "outputs": [],
   "source": [
    "astereo.play()"
   ]
  },
  {
   "cell_type": "code",
   "execution_count": null,
   "metadata": {},
   "outputs": [],
   "source": [
    "astereo = resample2(astereo, 12000, rate = 0.4)\n",
    "astereo.play()"
   ]
  },
  {
   "cell_type": "code",
   "execution_count": null,
   "metadata": {},
   "outputs": [],
   "source": [
    "astereo.channels"
   ]
  },
  {
   "cell_type": "code",
   "execution_count": null,
   "metadata": {},
   "outputs": [],
   "source": [
    "astereo.plot()\n"
   ]
  },
  {
   "cell_type": "code",
   "execution_count": null,
   "metadata": {},
   "outputs": [],
   "source": [
    "tsel = np.arange(176400/44100 * 24000/0.7)*1/24000"
   ]
  },
  {
   "cell_type": "code",
   "execution_count": null,
   "metadata": {},
   "outputs": [],
   "source": [
    "len(tsel)"
   ]
  },
  {
   "cell_type": "code",
   "execution_count": null,
   "metadata": {},
   "outputs": [],
   "source": [
    "176400/44100 * 24000"
   ]
  },
  {
   "cell_type": "code",
   "execution_count": null,
   "metadata": {},
   "outputs": [],
   "source": [
    "%timeit a = np.ndarray(shape = (44100* 100, 2))\n",
    "%timeit a = np.zeros((44100 * 100, 2))\n",
    "\n"
   ]
  },
  {
   "cell_type": "code",
   "execution_count": null,
   "metadata": {},
   "outputs": [],
   "source": []
  },
  {
   "cell_type": "code",
   "execution_count": null,
   "metadata": {},
   "outputs": [],
   "source": [
    "b = a.flatten()\n",
    "print (b)"
   ]
  },
  {
   "cell_type": "code",
   "execution_count": null,
   "metadata": {},
   "outputs": [],
   "source": [
    "b = a.reshape(a.shape[0]*  a.shape[1])"
   ]
  },
  {
   "cell_type": "code",
   "execution_count": null,
   "metadata": {},
   "outputs": [],
   "source": [
    "b *= 2"
   ]
  },
  {
   "cell_type": "code",
   "execution_count": null,
   "metadata": {},
   "outputs": [],
   "source": [
    "a"
   ]
  },
  {
   "cell_type": "code",
   "execution_count": null,
   "metadata": {},
   "outputs": [],
   "source": [
    "print (a)"
   ]
  },
  {
   "cell_type": "code",
   "execution_count": null,
   "metadata": {},
   "outputs": [],
   "source": [
    "b = a.flatten()"
   ]
  },
  {
   "cell_type": "code",
   "execution_count": null,
   "metadata": {},
   "outputs": [],
   "source": [
    "\n",
    "a_ver = np.mean(a, axis = 1)\n",
    "print (a_ver)\n"
   ]
  },
  {
   "cell_type": "code",
   "execution_count": null,
   "metadata": {},
   "outputs": [],
   "source": [
    "a = np.arange(1, 50000)\n",
    "print (a)\n",
    "print (np.repeat(a, 4, axis = 0).reshape(len(a), 4))\n",
    "%timeit np.repeat(a, 4, axis = 0).reshape(len(a), 4)"
   ]
  },
  {
   "cell_type": "code",
   "execution_count": null,
   "metadata": {},
   "outputs": [],
   "source": [
    "b = np.arange(1, 500000)\n",
    "print (b)\n",
    "print (np.dstack([b]*4))\n",
    "%timeit np.dstack([b]*4)"
   ]
  },
  {
   "cell_type": "code",
   "execution_count": null,
   "metadata": {},
   "outputs": [],
   "source": [
    "c =convertstack(b)\n",
    "%timeit convertstack(b)\n",
    "c"
   ]
  },
  {
   "cell_type": "code",
   "execution_count": null,
   "metadata": {},
   "outputs": [],
   "source": [
    "def mono2chan(b):\n",
    "    c = np.repeat(b, 4)\n",
    "#     return c.reshape(len(b), 4)\n",
    "    return c\n",
    "     "
   ]
  },
  {
   "cell_type": "code",
   "execution_count": null,
   "metadata": {},
   "outputs": [],
   "source": [
    "c = mono2chan(b)\n",
    "%timeit mono2chan(b)\n",
    "c"
   ]
  },
  {
   "cell_type": "code",
   "execution_count": null,
   "metadata": {},
   "outputs": [],
   "source": [
    "a = np.arange(0, 44100)"
   ]
  },
  {
   "cell_type": "code",
   "execution_count": null,
   "metadata": {},
   "outputs": [],
   "source": [
    "def makechunk2(lst, chunk):\n",
    "    result = []\n",
    "    lst = np.pad(lst, (0, lst.shape[0]%chunk), 'constant')\n",
    "    for i in np.arange(0, len(lst), chunk):\n",
    "        temp = lst[i:i + chunk]\n",
    "        result.append(temp)\n",
    "    return result\n",
    "c = makechunk(a, 512)\n",
    "# %timeit c = makechunk(a, 512)"
   ]
  },
  {
   "cell_type": "code",
   "execution_count": null,
   "metadata": {},
   "outputs": [],
   "source": [
    "np.array_equal(c,b)"
   ]
  },
  {
   "cell_type": "code",
   "execution_count": null,
   "metadata": {},
   "outputs": [],
   "source": [
    "a = [1,2,3]\n",
    "print (np.min(a))"
   ]
  },
  {
   "cell_type": "code",
   "execution_count": null,
   "metadata": {},
   "outputs": [],
   "source": []
  }
 ],
 "metadata": {
  "kernelspec": {
   "display_name": "Python 3",
   "language": "python",
   "name": "python3"
  },
  "language_info": {
   "codemirror_mode": {
    "name": "ipython",
    "version": 3
   },
   "file_extension": ".py",
   "mimetype": "text/x-python",
   "name": "python",
   "nbconvert_exporter": "python",
   "pygments_lexer": "ipython3",
   "version": "3.6.8"
  }
 },
 "nbformat": 4,
 "nbformat_minor": 2
}
