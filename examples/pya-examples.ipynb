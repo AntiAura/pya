{
 "cells": [
  {
   "cell_type": "markdown",
   "metadata": {},
   "source": [
    "# pya - Python Audio Coding Package Examples\n",
    "(c) 2019 by Thomas Hermann, Jiajun Yang and Alexander Neumann, Bielefeld University, Bielefeld, Germany"
   ]
  },
  {
   "cell_type": "code",
   "execution_count": 1,
   "metadata": {},
   "outputs": [
    {
     "name": "stdout",
     "output_type": "stream",
     "text": [
      "Jupyter backend error\n"
     ]
    }
   ],
   "source": [
    "# This part only makes sure that the repository version of pya is used for this notebook ...\n",
    "import os, sys, inspect, io\n",
    "\n",
    "cmd_folder = os.path.realpath(\n",
    "    os.path.dirname(\n",
    "        os.path.abspath(os.path.split(inspect.getfile( inspect.currentframe() ))[0])))\n",
    "\n",
    "if cmd_folder not in sys.path:\n",
    "    sys.path.insert(0, cmd_folder)\n",
    "\n",
    "# ... the part relevant for pya usage starts here\n",
    "from pya import *"
   ]
  },
  {
   "cell_type": "code",
   "execution_count": 2,
   "metadata": {},
   "outputs": [],
   "source": [
    "# This will chose the most appropriate backend. If you run this notebook locally, this will be PyAudio.\n",
    "# If you are using Binder, WebAudio will be chosen.\n",
    "auto_backend = determine_backend()"
   ]
  },
  {
   "cell_type": "code",
   "execution_count": 3,
   "metadata": {
    "code_folding": []
   },
   "outputs": [
    {
     "data": {
      "text/plain": [
       "AServer: sr: 44100, blocksize: 256,\n",
       "         Stream Active: True, Device: default, Index: 9"
      ]
     },
     "execution_count": 3,
     "metadata": {},
     "output_type": "execute_result"
    }
   ],
   "source": [
    "# Boot up the audio server\n",
    "# Aserver(sr=44100, bs=256, device=None, channels=2, backend=None, format=pyaudio.paFloat32)\n",
    "# By default pya will try to use PyAudio as the audio backend\n",
    "# If buffer size is not passed it will be determined by the backend\n",
    "s = Aserver(backend=auto_backend)  \n",
    "Aserver.default = s  # set default Aserver to use play() w/o explicit arg\n",
    "s.boot()"
   ]
  },
  {
   "cell_type": "code",
   "execution_count": 4,
   "metadata": {},
   "outputs": [
    {
     "name": "stdout",
     "output_type": "stream",
     "text": [
      "idx Device Name              INP OUT    SR   INP-(Lo|Hi)  OUT-(Lo/Hi) (Latency in ms)\n",
      "0   HDA Intel HDMI: 0 (hw:0,3)   0   8 44100 -1e+03  -1000   5.8     35\n",
      "1   HDA Intel HDMI: 1 (hw:0,7)   0   8 44100 -1e+03  -1000   5.8     35\n",
      "2   HDA Intel HDMI: 2 (hw:0,8)   0   8 44100 -1e+03  -1000   5.8     35\n",
      "3   HDA Intel HDMI: 3 (hw:0,9)   0   8 44100 -1e+03  -1000   5.8     35\n",
      "4   HDA Intel HDMI: 4 (hw:0,10)   0   8 44100 -1e+03  -1000   5.8     35\n",
      "5   HDA Intel PCH: CS4208 Analog (hw:1,0)   2   0 44100    5.8     35-1e+03  -1000\n",
      "6   HDA Intel PCH: CS4208 Digital (hw:1,1)   0   2 44100 -1e+03  -1000   5.8     35\n",
      "7   hdmi                       0   8 44100 -1e+03  -1000   5.8     35\n",
      "8   pulse                     32  32 44100    8.7     35   8.7     35\n",
      "9   default                   32  32 44100    8.7     35   8.7     35\n"
     ]
    },
    {
     "data": {
      "text/plain": [
       "[{'index': 0,\n",
       "  'structVersion': 2,\n",
       "  'name': 'HDA Intel HDMI: 0 (hw:0,3)',\n",
       "  'hostApi': 0,\n",
       "  'maxInputChannels': 0,\n",
       "  'maxOutputChannels': 8,\n",
       "  'defaultLowInputLatency': -1.0,\n",
       "  'defaultLowOutputLatency': 0.005804988662131519,\n",
       "  'defaultHighInputLatency': -1.0,\n",
       "  'defaultHighOutputLatency': 0.034829931972789115,\n",
       "  'defaultSampleRate': 44100.0},\n",
       " {'index': 1,\n",
       "  'structVersion': 2,\n",
       "  'name': 'HDA Intel HDMI: 1 (hw:0,7)',\n",
       "  'hostApi': 0,\n",
       "  'maxInputChannels': 0,\n",
       "  'maxOutputChannels': 8,\n",
       "  'defaultLowInputLatency': -1.0,\n",
       "  'defaultLowOutputLatency': 0.005804988662131519,\n",
       "  'defaultHighInputLatency': -1.0,\n",
       "  'defaultHighOutputLatency': 0.034829931972789115,\n",
       "  'defaultSampleRate': 44100.0},\n",
       " {'index': 2,\n",
       "  'structVersion': 2,\n",
       "  'name': 'HDA Intel HDMI: 2 (hw:0,8)',\n",
       "  'hostApi': 0,\n",
       "  'maxInputChannels': 0,\n",
       "  'maxOutputChannels': 8,\n",
       "  'defaultLowInputLatency': -1.0,\n",
       "  'defaultLowOutputLatency': 0.005804988662131519,\n",
       "  'defaultHighInputLatency': -1.0,\n",
       "  'defaultHighOutputLatency': 0.034829931972789115,\n",
       "  'defaultSampleRate': 44100.0},\n",
       " {'index': 3,\n",
       "  'structVersion': 2,\n",
       "  'name': 'HDA Intel HDMI: 3 (hw:0,9)',\n",
       "  'hostApi': 0,\n",
       "  'maxInputChannels': 0,\n",
       "  'maxOutputChannels': 8,\n",
       "  'defaultLowInputLatency': -1.0,\n",
       "  'defaultLowOutputLatency': 0.005804988662131519,\n",
       "  'defaultHighInputLatency': -1.0,\n",
       "  'defaultHighOutputLatency': 0.034829931972789115,\n",
       "  'defaultSampleRate': 44100.0},\n",
       " {'index': 4,\n",
       "  'structVersion': 2,\n",
       "  'name': 'HDA Intel HDMI: 4 (hw:0,10)',\n",
       "  'hostApi': 0,\n",
       "  'maxInputChannels': 0,\n",
       "  'maxOutputChannels': 8,\n",
       "  'defaultLowInputLatency': -1.0,\n",
       "  'defaultLowOutputLatency': 0.005804988662131519,\n",
       "  'defaultHighInputLatency': -1.0,\n",
       "  'defaultHighOutputLatency': 0.034829931972789115,\n",
       "  'defaultSampleRate': 44100.0},\n",
       " {'index': 5,\n",
       "  'structVersion': 2,\n",
       "  'name': 'HDA Intel PCH: CS4208 Analog (hw:1,0)',\n",
       "  'hostApi': 0,\n",
       "  'maxInputChannels': 2,\n",
       "  'maxOutputChannels': 0,\n",
       "  'defaultLowInputLatency': 0.005804988662131519,\n",
       "  'defaultLowOutputLatency': -1.0,\n",
       "  'defaultHighInputLatency': 0.034829931972789115,\n",
       "  'defaultHighOutputLatency': -1.0,\n",
       "  'defaultSampleRate': 44100.0},\n",
       " {'index': 6,\n",
       "  'structVersion': 2,\n",
       "  'name': 'HDA Intel PCH: CS4208 Digital (hw:1,1)',\n",
       "  'hostApi': 0,\n",
       "  'maxInputChannels': 0,\n",
       "  'maxOutputChannels': 2,\n",
       "  'defaultLowInputLatency': -1.0,\n",
       "  'defaultLowOutputLatency': 0.005804988662131519,\n",
       "  'defaultHighInputLatency': -1.0,\n",
       "  'defaultHighOutputLatency': 0.034829931972789115,\n",
       "  'defaultSampleRate': 44100.0},\n",
       " {'index': 7,\n",
       "  'structVersion': 2,\n",
       "  'name': 'hdmi',\n",
       "  'hostApi': 0,\n",
       "  'maxInputChannels': 0,\n",
       "  'maxOutputChannels': 8,\n",
       "  'defaultLowInputLatency': -1.0,\n",
       "  'defaultLowOutputLatency': 0.005804988662131519,\n",
       "  'defaultHighInputLatency': -1.0,\n",
       "  'defaultHighOutputLatency': 0.034829931972789115,\n",
       "  'defaultSampleRate': 44100.0},\n",
       " {'index': 8,\n",
       "  'structVersion': 2,\n",
       "  'name': 'pulse',\n",
       "  'hostApi': 0,\n",
       "  'maxInputChannels': 32,\n",
       "  'maxOutputChannels': 32,\n",
       "  'defaultLowInputLatency': 0.008684807256235827,\n",
       "  'defaultLowOutputLatency': 0.008684807256235827,\n",
       "  'defaultHighInputLatency': 0.034807256235827665,\n",
       "  'defaultHighOutputLatency': 0.034807256235827665,\n",
       "  'defaultSampleRate': 44100.0},\n",
       " {'index': 9,\n",
       "  'structVersion': 2,\n",
       "  'name': 'default',\n",
       "  'hostApi': 0,\n",
       "  'maxInputChannels': 32,\n",
       "  'maxOutputChannels': 32,\n",
       "  'defaultLowInputLatency': 0.008684807256235827,\n",
       "  'defaultLowOutputLatency': 0.008684807256235827,\n",
       "  'defaultHighInputLatency': 0.034807256235827665,\n",
       "  'defaultHighOutputLatency': 0.034807256235827665,\n",
       "  'defaultSampleRate': 44100.0}]"
      ]
     },
     "execution_count": 4,
     "metadata": {},
     "output_type": "execute_result"
    }
   ],
   "source": [
    "# To check all available devices \n",
    "device_info()"
   ]
  },
  {
   "cell_type": "code",
   "execution_count": 5,
   "metadata": {},
   "outputs": [],
   "source": [
    "# header - imports\n",
    "import time\n",
    "import numpy as np\n",
    "import scipy\n",
    "import matplotlib.pyplot as plt\n",
    "from ipywidgets import interact, fixed, widgets\n",
    "# plot graphs right into the notebook\n",
    "%matplotlib inline  \n",
    "# for dedicated GUI windows with Qt5, uncomment the following line:\n",
    "# %matplotlib qt5  "
   ]
  },
  {
   "cell_type": "markdown",
   "metadata": {},
   "source": [
    "## pya - Basics"
   ]
  },
  {
   "cell_type": "markdown",
   "metadata": {},
   "source": [
    "**Motivation / Purpose**\n",
    "* pya shall simplify creation, access, processing, analysis and output of multi-channel audio signals\n",
    "* Signals are regarded as time series sampled at a constant sampling rate (sr)\n",
    "    * Thus, pya can also work nicely with non-audio time series such as ECG, EEG, EMG, seismography, etc.\n",
    "* In pya, signals are stored and manipulated as numpy arrays, using scipy functions where possible\n",
    "    * a direct access to the numpy ndarray is open, promoting direct use if a special pya function should be lacking\n",
    "    * later version may shield access to the Asigs sig via a property, allowing to deal more consistently with 1-channel audio signals\n",
    "* For visualization, currently matplotlib is used as default engine\n",
    "    * later versions may introduce a pyA class variable to select the vis backend (bokeh, mpl, etc.)\n",
    "* pya may grow into a more interactive tool for audio manipulation\n",
    "    * using jupyter interact widgets (or others) to control parameters graphically \n",
    "    * or to allow interactive selection events and give annotations via a GUI. \n",
    "    * However, the core should remain usable as plain python import \n",
    "* pya is at this time mainly built for non-realtime signal processing.\n",
    "    * there is no thread to apply operations blockwise in a processing pipeline and output results in r/t\n",
    "    * however, a Aserver is available to schedule signal playback at a given onset on a given channel\n",
    "    * it has to be seen what the best way is to incorporate such features later if needed\n",
    "\n",
    "**Main Classes**\n",
    "* Asig - the audio signal class\n",
    "    * Ugen - a subclass of Asig, unit generator: sine, square, swatooth, noise\n",
    "* Aserver - the audio server class for playing Asigs\n",
    "* Aspec - the audio spectrum class, using rfft as real-valued signals are always implied\n",
    "* Astft - the audio STFT (short-term Fourier transform) class\n",
    "* Amfcc - the audio mel-frequencies cepstral coefficients class\n",
    "\n",
    "**Chainable Signal modifications**\n",
    "* The usual way to create a signal is via the Asig constructor\n",
    "* Each class includes methods to convert between representations\n",
    "    * Asig.to_spec --> Aspec\n",
    "    * Asig.to_stft --> Astft\n",
    "    * Aspec.to_sig --> Asig\n",
    "    * Astft.to_sig --> Asig\n",
    "* methods can be chained to quickly enable complex manipulations. For instance\n",
    "            myasig[{1.0:1.5}].norm(db=-6).fade_in(0.1).fade_out(0.3)\n",
    "            .resample(16000).plot(lw=0.2).play(rate=0.2,onset=2.5)\n",
    "    * the above selects 0.5s starting at 1s, normalizes to -6dB, applies a fade(in/out), \n",
    "        resamples, plots and plays signal at yet another rate in 2.5s in one line of code\n",
    "\n",
    "**Return value access**\n",
    "* most methods return a new instance of Asig or simply self if there are no changes to any variable. \n",
    "* some methods create additional data, e.g. mysignal.find_events() can be used for onset detection and creates a list of events' start and end indices.\n",
    "* in pya, instead the member variables '_' is initialized as dictionary {}, and used to store custom data, so that they remain associated with the instance.\n",
    "    * `mysignal._` returns the full dictionary\n",
    "    * `mysignal._['events']` returns a 2D numpy array of the events\n",
    "\n",
    "**getitem and setitem**\n",
    "* pya offers numpy style getitem and setitem access and slicing, e.g asig[start:end], yet it offers more flexibility particular for audio arrangement such as \n",
    "    * multi-channel assignment\n",
    "    * time based subsetting: myasig[{t0:t1},3:] gives an asig that cuts a time slice from t0 to t1, at the same time selecting only channels 3,4... \n",
    "* more details can be found in Section 1.2.3"
   ]
  },
  {
   "cell_type": "markdown",
   "metadata": {},
   "source": [
    "## Asig Audio Signal class"
   ]
  },
  {
   "cell_type": "code",
   "execution_count": 6,
   "metadata": {},
   "outputs": [],
   "source": [
    "# help(Asig)  # uncomment to see details"
   ]
  },
  {
   "cell_type": "markdown",
   "metadata": {},
   "source": [
    "### Creating Audio Signals as Asig instances"
   ]
  },
  {
   "cell_type": "markdown",
   "metadata": {},
   "source": [
    "* An Asig(sig, sr, label) can be created by passing as sig\n",
    "    * (1) a numpy ndarray,\n",
    "        * the fast index is for time, the slow index for channels\n",
    "        * sr=44100 is the default sampling rate in Hz, if no other value is given\n",
    "    * (2) a filename,\n",
    "        * the file is loaded via scipy.io.loadwav, \n",
    "        * converted to float64 within [-1,1] without normalization, \n",
    "        * sampling rate sr is taken from the file. \n",
    "        * Multi-channel audio is supported.\n",
    "    * (3) an integer\n",
    "        * an empty (zero) signal with the given number of samples is created\n",
    "    * (4) a float\n",
    "        * an empty (zero) signal of given duration is created"
   ]
  },
  {
   "cell_type": "markdown",
   "metadata": {},
   "source": [
    "* the \\_\\_repr\\_\\_() reports basic channels x samples @ sampling_rate = duration"
   ]
  },
  {
   "cell_type": "code",
   "execution_count": 7,
   "metadata": {},
   "outputs": [
    {
     "data": {
      "text/plain": [
       "Asig('snap'): 1 x 41216 @ 44100Hz = 0.935s cn=['0']"
      ]
     },
     "execution_count": 7,
     "metadata": {},
     "output_type": "execute_result"
    }
   ],
   "source": [
    "asnap = Asig(\"samples/snap.wav\", label='snap')\n",
    "asnap"
   ]
  },
  {
   "cell_type": "code",
   "execution_count": 8,
   "metadata": {},
   "outputs": [
    {
     "data": {
      "text/plain": [
       "Asig('snap'): 1 x 41216 @ 44100Hz = 0.935s cn=['0']"
      ]
     },
     "execution_count": 8,
     "metadata": {},
     "output_type": "execute_result"
    }
   ],
   "source": [
    "asnap.play()"
   ]
  },
  {
   "cell_type": "markdown",
   "metadata": {},
   "source": [
    "mp3 files are supported but required C library ffmpeg, for installation guide refer to [Github](https://github.com/interactive-sonification/pya)"
   ]
  },
  {
   "cell_type": "code",
   "execution_count": 9,
   "metadata": {},
   "outputs": [
    {
     "data": {
      "text/plain": [
       "Asig('ping'): 1 x 34158 @ 44100Hz = 0.775s cn=['0']"
      ]
     },
     "execution_count": 9,
     "metadata": {},
     "output_type": "execute_result"
    }
   ],
   "source": [
    "aping = Asig(\"samples/ping.mp3\", label='ping')\n",
    "aping"
   ]
  },
  {
   "cell_type": "code",
   "execution_count": 10,
   "metadata": {},
   "outputs": [
    {
     "data": {
      "text/plain": [
       "Asig('ping'): 1 x 34158 @ 44100Hz = 0.775s cn=['0']"
      ]
     },
     "execution_count": 10,
     "metadata": {},
     "output_type": "execute_result"
    }
   ],
   "source": [
    "aping.play()"
   ]
  },
  {
   "cell_type": "code",
   "execution_count": 11,
   "metadata": {},
   "outputs": [
    {
     "data": {
      "text/plain": [
       "Asig('word'): 1 x 87040 @ 44100Hz = 1.974s cn=['0']"
      ]
     },
     "execution_count": 11,
     "metadata": {},
     "output_type": "execute_result"
    }
   ],
   "source": [
    "# load a speech sample\n",
    "aword = Asig(\"samples/sonification.wav\", label='word')\n",
    "aword"
   ]
  },
  {
   "cell_type": "code",
   "execution_count": 12,
   "metadata": {},
   "outputs": [
    {
     "data": {
      "text/plain": [
       "Asig('word'): 1 x 87040 @ 44100Hz = 1.974s cn=['0']"
      ]
     },
     "execution_count": 12,
     "metadata": {},
     "output_type": "execute_result"
    }
   ],
   "source": [
    "aword.play()"
   ]
  },
  {
   "cell_type": "code",
   "execution_count": 13,
   "metadata": {},
   "outputs": [
    {
     "data": {
      "text/plain": [
       "Asig('noise'): 1 x 44100 @ 44100Hz = 1.000s cn=['0']"
      ]
     },
     "execution_count": 13,
     "metadata": {},
     "output_type": "execute_result"
    }
   ],
   "source": [
    "# create a signal from data\n",
    "anoise = Asig(np.random.randn(44100), sr=44100, label='noise')\n",
    "anoise"
   ]
  },
  {
   "cell_type": "code",
   "execution_count": 14,
   "metadata": {},
   "outputs": [],
   "source": [
    "# record() helper function is currently removed until future release. \n",
    "# Use Arecorder() for recording. \n",
    "# # record an audio signal, follow with a normalization\n",
    "# arec = Asig(record(2.0), label='rec').norm()"
   ]
  },
  {
   "cell_type": "code",
   "execution_count": 15,
   "metadata": {},
   "outputs": [
    {
     "data": {
      "text/plain": [
       "Asig('sonification'): 1 x 88200 @ 44100Hz = 2.000s cn=['0']"
      ]
     },
     "execution_count": 15,
     "metadata": {},
     "output_type": "execute_result"
    }
   ],
   "source": [
    "# create 2s silence at default sr\n",
    "Asig(2.0, label='sonification')"
   ]
  },
  {
   "cell_type": "code",
   "execution_count": 16,
   "metadata": {},
   "outputs": [],
   "source": [
    "# create a 44100 x 4 signal at 22050 sr, give the channel names cn \n",
    "asignal = Asig(44100, sr=44100//2, label='silence', channels=4, cn=['a', 'b', 'c', 'd'])"
   ]
  },
  {
   "cell_type": "markdown",
   "metadata": {},
   "source": [
    "**Useful Aisg attributes**"
   ]
  },
  {
   "cell_type": "code",
   "execution_count": 17,
   "metadata": {},
   "outputs": [
    {
     "data": {
      "text/plain": [
       "array([[0., 0., 0., 0.],\n",
       "       [0., 0., 0., 0.],\n",
       "       [0., 0., 0., 0.],\n",
       "       ...,\n",
       "       [0., 0., 0., 0.],\n",
       "       [0., 0., 0., 0.],\n",
       "       [0., 0., 0., 0.]], dtype=float32)"
      ]
     },
     "execution_count": 17,
     "metadata": {},
     "output_type": "execute_result"
    }
   ],
   "source": [
    "asignal.sig       # signal array "
   ]
  },
  {
   "cell_type": "code",
   "execution_count": 18,
   "metadata": {},
   "outputs": [
    {
     "data": {
      "text/plain": [
       "44100"
      ]
     },
     "execution_count": 18,
     "metadata": {},
     "output_type": "execute_result"
    }
   ],
   "source": [
    "asignal.samples   # nr of samples on each channels"
   ]
  },
  {
   "cell_type": "code",
   "execution_count": 19,
   "metadata": {},
   "outputs": [
    {
     "data": {
      "text/plain": [
       "4"
      ]
     },
     "execution_count": 19,
     "metadata": {},
     "output_type": "execute_result"
    }
   ],
   "source": [
    "asignal.channels  # nr of channels"
   ]
  },
  {
   "cell_type": "code",
   "execution_count": 20,
   "metadata": {},
   "outputs": [
    {
     "data": {
      "text/plain": [
       "22050"
      ]
     },
     "execution_count": 20,
     "metadata": {},
     "output_type": "execute_result"
    }
   ],
   "source": [
    "asignal.sr        # sampling rate"
   ]
  },
  {
   "cell_type": "code",
   "execution_count": 21,
   "metadata": {},
   "outputs": [
    {
     "data": {
      "text/plain": [
       "'silence'"
      ]
     },
     "execution_count": 21,
     "metadata": {},
     "output_type": "execute_result"
    }
   ],
   "source": [
    "asignal.label     # asig label "
   ]
  },
  {
   "cell_type": "code",
   "execution_count": 22,
   "metadata": {},
   "outputs": [
    {
     "data": {
      "text/plain": [
       "['a', 'b', 'c', 'd']"
      ]
     },
     "execution_count": 22,
     "metadata": {},
     "output_type": "execute_result"
    }
   ],
   "source": [
    "asignal.cn        # channel name list"
   ]
  },
  {
   "cell_type": "markdown",
   "metadata": {},
   "source": [
    "**Unit generator**"
   ]
  },
  {
   "cell_type": "markdown",
   "metadata": {},
   "source": [
    "* Ugen().sine(freq=440, amp=1.0, dur=1.0, sr=44100, channels=1, cn=None, label=\"sine\")\n",
    "* Ugen().square(freq=440, amp=1.0, dur=1.0, duty=0.4, sr=44100, channels=1, cn=None, label=\"square\")\n",
    "* Ugen().sawtooth(freq=440, amp=1.0, dur=1.0, width=1., sr=44100, channels=1, cn=None, label=\"sawtooth\")\n",
    "* Ugen().noise(type=\"white\", amp=1.0, dur=1.0, sr=44100, channels=1, cn=None, label=\"noise\")  # type = white or pink"
   ]
  },
  {
   "cell_type": "code",
   "execution_count": 23,
   "metadata": {},
   "outputs": [
    {
     "data": {
      "text/plain": [
       "Asig('sine'): 4 x 1000 @ 1000Hz = 1.000s cn=['0', '1', '2', '3']"
      ]
     },
     "execution_count": 23,
     "metadata": {},
     "output_type": "execute_result"
    }
   ],
   "source": [
    "asine = Ugen().sine(freq=200, sr=1000, channels=4)  # create a 4-channel sine\n",
    "asine"
   ]
  },
  {
   "cell_type": "markdown",
   "metadata": {},
   "source": [
    "### Plot and play Asigs"
   ]
  },
  {
   "cell_type": "markdown",
   "metadata": {},
   "source": [
    "* play(rate=1, **kwargs) plays the signal via the given server.\n",
    "  It allows to control the rate\n",
    "    * 1=original rate, 2=twice as fast, 0.5=half time\n",
    "    * internally the signal is resampled before sending to audio output\n",
    "    * indicate which Aserver for playback, defaults to Aserver.default, if set\n",
    "    * onset=value allows to specify when sound shall be played\n",
    "        * as relative time to *now* if using a float <1e6\n",
    "        * as absolute time (e.g. use time.time()+value)\n",
    "    * block=True causes a time.sleep() for the play duration after\n",
    "      queueing the sound, but only if onset is not set\n",
    "* play returns self "
   ]
  },
  {
   "cell_type": "code",
   "execution_count": 24,
   "metadata": {},
   "outputs": [
    {
     "data": {
      "text/plain": [
       "Asig('snap'): 1 x 41216 @ 44100Hz = 0.935s cn=['0']"
      ]
     },
     "execution_count": 24,
     "metadata": {},
     "output_type": "execute_result"
    }
   ],
   "source": [
    "asnap.play(0.2)  # try with 0.5, 0.1"
   ]
  },
  {
   "cell_type": "code",
   "execution_count": 25,
   "metadata": {},
   "outputs": [
    {
     "data": {
      "text/plain": [
       "Asig('word'): 1 x 87040 @ 44100Hz = 1.974s cn=['0']"
      ]
     },
     "execution_count": 25,
     "metadata": {},
     "output_type": "execute_result"
    }
   ],
   "source": [
    "aword.play(0.7)  # try with 0.5, 0.1"
   ]
  },
  {
   "cell_type": "code",
   "execution_count": 26,
   "metadata": {},
   "outputs": [
    {
     "data": {
      "text/plain": [
       "Asig('snap_multiplied'): 1 x 41216 @ 44100Hz = 0.935s cn=['0']"
      ]
     },
     "execution_count": 26,
     "metadata": {},
     "output_type": "execute_result"
    }
   ],
   "source": [
    "(asnap * 0.5).play()  # direct gain control"
   ]
  },
  {
   "cell_type": "code",
   "execution_count": 27,
   "metadata": {},
   "outputs": [
    {
     "data": {
      "text/plain": [
       "Asig('snap_scaled'): 1 x 41216 @ 44100Hz = 0.935s cn=['0']"
      ]
     },
     "execution_count": 27,
     "metadata": {},
     "output_type": "execute_result"
    }
   ],
   "source": [
    "asnap.gain(db=-22).play()  # very quiet snap, dB attentuation"
   ]
  },
  {
   "cell_type": "markdown",
   "metadata": {},
   "source": [
    "Since asig plays in a non-blocking way, to play 2 sounds together \n",
    "you can simple play one after another."
   ]
  },
  {
   "cell_type": "code",
   "execution_count": 28,
   "metadata": {},
   "outputs": [
    {
     "data": {
      "text/plain": [
       "Asig('word'): 1 x 87040 @ 44100Hz = 1.974s cn=['0']"
      ]
     },
     "execution_count": 28,
     "metadata": {},
     "output_type": "execute_result"
    }
   ],
   "source": [
    "asnap.play()\n",
    "aword.play()"
   ]
  },
  {
   "cell_type": "markdown",
   "metadata": {},
   "source": [
    "Alternatively, you can mix two signals together bying adding them. Using x or extend property\n",
    "* This will result in a size based on the longer one."
   ]
  },
  {
   "cell_type": "code",
   "execution_count": 29,
   "metadata": {},
   "outputs": [
    {
     "name": "stdout",
     "output_type": "stream",
     "text": [
      "Length in second:  0.9346031746031747 1.9736961451247166\n",
      "asnap and aword are different in size\n"
     ]
    },
    {
     "data": {
      "text/plain": [
       "Asig('snap_added'): 1 x 87040 @ 44100Hz = 1.974s cn=['0']"
      ]
     },
     "execution_count": 29,
     "metadata": {},
     "output_type": "execute_result"
    }
   ],
   "source": [
    "print(\"Length in second: \", asnap.get_duration(), aword.get_duration())\n",
    "try:\n",
    "    (asnap + aword).play() \n",
    "except ValueError:\n",
    "    print(\"asnap and aword are different in size\")\n",
    "\n",
    "(asnap.x + aword).play()  # same as (asnap.extend + aword).play() \n"
   ]
  },
  {
   "cell_type": "markdown",
   "metadata": {},
   "source": [
    "Or you can use b or bound to limit the result based on the shorter one"
   ]
  },
  {
   "cell_type": "code",
   "execution_count": 30,
   "metadata": {},
   "outputs": [
    {
     "data": {
      "text/plain": [
       "Asig('snap_added'): 1 x 41216 @ 44100Hz = 0.935s cn=['0']"
      ]
     },
     "execution_count": 30,
     "metadata": {},
     "output_type": "execute_result"
    }
   ],
   "source": [
    "(asnap.b + aword).play()  # same as (aword.b + asnap).play()"
   ]
  },
  {
   "cell_type": "markdown",
   "metadata": {},
   "source": [
    "use onset=value to control the playback time"
   ]
  },
  {
   "cell_type": "code",
   "execution_count": 31,
   "metadata": {},
   "outputs": [
    {
     "data": {
      "text/plain": [
       "Asig('word'): 1 x 87040 @ 44100Hz = 1.974s cn=['0']"
      ]
     },
     "execution_count": 31,
     "metadata": {},
     "output_type": "execute_result"
    }
   ],
   "source": [
    "import time\n",
    "t0 = time.time()\n",
    "asnap.play(onset=t0+0.75)\n",
    "aword.play(onset=t0+0.1)"
   ]
  },
  {
   "cell_type": "code",
   "execution_count": 32,
   "metadata": {},
   "outputs": [
    {
     "data": {
      "text/plain": [
       "Asig('snap'): 1 x 41216 @ 44100Hz = 0.935s cn=['0']"
      ]
     },
     "execution_count": 32,
     "metadata": {},
     "output_type": "execute_result"
    }
   ],
   "source": [
    "# using relative time stamps (less precise)\n",
    "aword.play(onset=0.1)\n",
    "asnap.play(onset=0.75)"
   ]
  },
  {
   "cell_type": "markdown",
   "metadata": {},
   "source": [
    "* plot(fn=None, **kwargs):\n",
    "    * fn either accepts a string e.g. 'db' for decibel plotting\n",
    "        * this assumes 16bit=96dB for full signal\n",
    "    * or fn can be a function for custom warping\n",
    "* plot plots the signal using matplotlib\n",
    "    * return value is the lines\n",
    "    * kwargs are propagated to the plot()\n",
    "* plot returns self but sets the 'plot' key in dict _ with the matplotlib.lines.Line2D "
   ]
  },
  {
   "cell_type": "code",
   "execution_count": 33,
   "metadata": {},
   "outputs": [
    {
     "data": {
      "text/plain": [
       "Asig('word'): 1 x 87040 @ 44100Hz = 1.974s cn=['0']"
      ]
     },
     "execution_count": 33,
     "metadata": {},
     "output_type": "execute_result"
    },
    {
     "data": {
      "image/png": "[encoded data removed]",
      "text/plain": [
       "<Figure size 432x288 with 1 Axes>"
      ]
     },
     "metadata": {
      "needs_background": "light"
     },
     "output_type": "display_data"
    }
   ],
   "source": [
    "aword.plot(lambda x: ampdb(abs(x)+0.01), lw=0.5, color=\"r\")  # try also with arg 'db'"
   ]
  },
  {
   "cell_type": "code",
   "execution_count": 34,
   "metadata": {},
   "outputs": [
    {
     "data": {
      "text/plain": [
       "Asig('word'): 1 x 87040 @ 44100Hz = 1.974s cn=['0']"
      ]
     },
     "execution_count": 34,
     "metadata": {},
     "output_type": "execute_result"
    },
    {
     "data": {
      "image/png": "[encoded data removed]",
      "text/plain": [
       "<Figure size 432x288 with 1 Axes>"
      ]
     },
     "metadata": {
      "needs_background": "light"
     },
     "output_type": "display_data"
    }
   ],
   "source": [
    "aword.plot(lambda x: ampdb(abs(x)*1e2+1), lw=0.15)\n",
    "aword.plot(lambda x: 100*abs(x)**2, color='red', lw=0.25)"
   ]
  },
  {
   "cell_type": "code",
   "execution_count": 35,
   "metadata": {},
   "outputs": [
    {
     "data": {
      "text/plain": [
       "Asig('word'): 1 x 87040 @ 44100Hz = 1.974s cn=['0']"
      ]
     },
     "execution_count": 35,
     "metadata": {},
     "output_type": "execute_result"
    }
   ],
   "source": [
    "aword.play(0.2)  # this takes a long time but returns immediately"
   ]
  },
  {
   "cell_type": "code",
   "execution_count": 36,
   "metadata": {},
   "outputs": [],
   "source": [
    "s.stop()  # stop the sound bying stopping the server. This will erase the server buffer"
   ]
  },
  {
   "cell_type": "code",
   "execution_count": 37,
   "metadata": {},
   "outputs": [
    {
     "data": {
      "text/plain": [
       "Asig('word'): 1 x 87040 @ 44100Hz = 1.974s cn=['0']"
      ]
     },
     "execution_count": 37,
     "metadata": {},
     "output_type": "execute_result"
    }
   ],
   "source": [
    "aword.play(1.)"
   ]
  },
  {
   "cell_type": "code",
   "execution_count": 38,
   "metadata": {},
   "outputs": [
    {
     "data": {
      "text/plain": [
       "{'plot': [<matplotlib.lines.Line2D at 0x7f554e5d7650>]}"
      ]
     },
     "execution_count": 38,
     "metadata": {},
     "output_type": "execute_result"
    },
    {
     "data": {
      "image/png": "[encoded data removed]",
      "text/plain": [
       "<Figure size 432x288 with 1 Axes>"
      ]
     },
     "metadata": {
      "needs_background": "light"
     },
     "output_type": "display_data"
    }
   ],
   "source": [
    "# demonstrate plot() and play() daisy-chained and subsequent access to the _ dict\n",
    "asnap.plot(marker='o', mfc='r', ms=7, lw=0.1).play(server=s)._['plot'][0].set_markevery((700, 200))\n",
    "plt.xlim(0, 0.2);\n",
    "asnap._"
   ]
  },
  {
   "cell_type": "markdown",
   "metadata": {},
   "source": [
    "### Accessing items, slicing and time slicing "
   ]
  },
  {
   "cell_type": "markdown",
   "metadata": {},
   "source": [
    "* The signal is stored in the attribute self.sig\n",
    "* you can read and assign to that attribute directly\n",
    "    * note that by doing so you are responsible for keeping \n",
    "        self.sr and self.samples valid\n",
    "* slicing works just as with arrays, sample-accurate"
   ]
  },
  {
   "cell_type": "code",
   "execution_count": 39,
   "metadata": {},
   "outputs": [
    {
     "data": {
      "text/plain": [
       "Asig('sine_fadein_fadeout_multiplied_normalised'): 1 x 600 @ 1000Hz = 0.600s cn=['0']"
      ]
     },
     "execution_count": 39,
     "metadata": {},
     "output_type": "execute_result"
    },
    {
     "data": {
      "image/png": "[encoded data removed]",
      "text/plain": [
       "<Figure size 432x288 with 1 Axes>"
      ]
     },
     "metadata": {
      "needs_background": "light"
     },
     "output_type": "display_data"
    }
   ],
   "source": [
    "b = Ugen().sine(freq=100, sr=1000, dur=0.6).fade_in(0.3).fade_out(0.2)\n",
    "b *= 0.5+0.2*np.sin(2*np.pi*15*b.get_times())  # AM, note that you can directly apply arithemetics to Asig rather than Asig.sig\n",
    "b.plot().norm().play()\n",
    "# note that repeated cell executions changes signal more and more"
   ]
  },
  {
   "cell_type": "code",
   "execution_count": 40,
   "metadata": {},
   "outputs": [
    {
     "data": {
      "image/png": "[encoded data removed]",
      "text/plain": [
       "<Figure size 432x288 with 1 Axes>"
      ]
     },
     "metadata": {
      "needs_background": "light"
     },
     "output_type": "display_data"
    }
   ],
   "source": [
    "b = aword[5000:57000].plot()"
   ]
  },
  {
   "cell_type": "markdown",
   "metadata": {},
   "source": [
    "* use full slice [start:stop:stride] to downsample or reverse signal"
   ]
  },
  {
   "cell_type": "code",
   "execution_count": 41,
   "metadata": {},
   "outputs": [
    {
     "data": {
      "text/plain": [
       "Asig('word_arrayindexed'): 1 x 87039 @ 44100Hz = 1.974s cn=['0']"
      ]
     },
     "execution_count": 41,
     "metadata": {},
     "output_type": "execute_result"
    }
   ],
   "source": [
    "aword[-1:0:-1].play()  # reversed word via -1 step in slice"
   ]
  },
  {
   "cell_type": "code",
   "execution_count": 42,
   "metadata": {},
   "outputs": [
    {
     "data": {
      "application/vnd.jupyter.widget-view+json": {
       "model_id": "9b119b146b82476490e57579db38405e",
       "version_major": 2,
       "version_minor": 0
      },
      "text/plain": [
       "interactive(children=(IntSlider(value=2, description='stride', max=20, min=1), Output()), _dom_classes=('widge…"
      ]
     },
     "metadata": {},
     "output_type": "display_data"
    }
   ],
   "source": [
    "def test_stride(stride=2):\n",
    "    aword[0:40000:stride].play()\n",
    "interact(test_stride, stride=(1,20,1));"
   ]
  },
  {
   "cell_type": "markdown",
   "metadata": {},
   "source": [
    "* All types of slicing:\n",
    "    * int: subset a single value or row\n",
    "    * slice\n",
    "    * integer list for the row: subset rows\n",
    "    * string list for the column: subset based on channel names **cn**\n",
    "    * dict: time slicing in seconds"
   ]
  },
  {
   "cell_type": "markdown",
   "metadata": {},
   "source": [
    "**Multi-Channel selection**"
   ]
  },
  {
   "cell_type": "code",
   "execution_count": 43,
   "metadata": {},
   "outputs": [],
   "source": [
    "# create a 4-channel sine\n",
    "amultichan = Ugen().sine(freq=200, sr=2000, channels=4, cn=['a','b','c','d'])  \n",
    "\n",
    "# create a 1-channel sawtooth\n",
    "amono = Ugen().sawtooth(freq=40, sr=2000, channels=1)  "
   ]
  },
  {
   "cell_type": "code",
   "execution_count": 44,
   "metadata": {},
   "outputs": [
    {
     "data": {
      "text/plain": [
       "array([[0.9507647 , 0.9507647 , 0.9507647 , 0.9507647 ],\n",
       "       [0.00942935, 0.00942935, 0.00942935, 0.00942935],\n",
       "       [0.09415525, 0.09415525, 0.09415525, 0.09415525]], dtype=float32)"
      ]
     },
     "execution_count": 44,
     "metadata": {},
     "output_type": "execute_result"
    }
   ],
   "source": [
    "# use index list to create a subset of samples\n",
    "amono[[3, 30, 300]].sig \n",
    "amultichan[[3, 30, 300], :].sig "
   ]
  },
  {
   "cell_type": "code",
   "execution_count": 45,
   "metadata": {},
   "outputs": [
    {
     "data": {
      "text/plain": [
       "Asig('sine_arrayindexed'): 2 x 2000 @ 2000Hz = 1.000s cn=['a', 'd']"
      ]
     },
     "execution_count": 45,
     "metadata": {},
     "output_type": "execute_result"
    }
   ],
   "source": [
    "# channel selection based on channel name cn, using a list\n",
    "amultichan[:, ['a']]\n",
    "amultichan[:, ['a', 'd']]"
   ]
  },
  {
   "cell_type": "code",
   "execution_count": 46,
   "metadata": {},
   "outputs": [
    {
     "data": {
      "text/plain": [
       "Asig('sine_arrayindexed'): 1 x 2000 @ 2000Hz = 1.000s cn=['c']"
      ]
     },
     "execution_count": 46,
     "metadata": {},
     "output_type": "execute_result"
    }
   ],
   "source": [
    "amultichan[:, [False, False, True, False]]  # subset channel using bool list"
   ]
  },
  {
   "cell_type": "code",
   "execution_count": 47,
   "metadata": {},
   "outputs": [
    {
     "data": {
      "text/plain": [
       "Asig('sawtooth_arrayindexed'): 1 x 800 @ 2000Hz = 0.400s cn=['0']"
      ]
     },
     "execution_count": 47,
     "metadata": {},
     "output_type": "execute_result"
    }
   ],
   "source": [
    "# You can use a dictionary for time slicing. {start:end}\n",
    "amultichan[{0.2:0.6}]   # from 0.2 to 0.6 second\n",
    "amono[{0.2:-0.4}]       # This results the same as above, start at 0.2, end at 0.4 to the end.  "
   ]
  },
  {
   "cell_type": "code",
   "execution_count": 48,
   "metadata": {},
   "outputs": [
    {
     "data": {
      "text/plain": [
       "Asig('sine_arrayindexed'): 2 x 500 @ 500Hz = 1.000s cn=['a', 'c']"
      ]
     },
     "execution_count": 48,
     "metadata": {},
     "output_type": "execute_result"
    }
   ],
   "source": [
    "amultichan[0:amultichan.samples:4, ['a', 'c']]    # a rough down-sampling"
   ]
  },
  {
   "cell_type": "markdown",
   "metadata": {},
   "source": [
    "### `__setitem__`, and advanced `__setitem__`"
   ]
  },
  {
   "cell_type": "markdown",
   "metadata": {},
   "source": [
    "The previous section demonstrate various ways of indexing signals. This section demonstrates how to modify a signals subset using the `__setitem__`. \n",
    "\n",
    "Since audio signals often have different sizes (i.e. lengths), we implemented several advanced setitem methods to enable more flexible assignment options as dimensions on left and right side differ. In `adest[selection1] = asrc[selection2]` we refer to the right side as 'source' and the left side as 'destination'.\n",
    "\n",
    "* bound ('b'): truncates source so that it fits into the destination \n",
    "* extend ('e'): automatically extends destination if source would extend beyond end \n",
    "* overwrite ('o'): \n",
    "\n",
    "Practically, the modes are implemented as properties that are set using a method so that subsequent slicing respects the choice. At the end the mode is resetted.\n",
    "\n",
    "Let's start with some test signals to demo the setitem modes:"
   ]
  },
  {
   "cell_type": "code",
   "execution_count": 49,
   "metadata": {},
   "outputs": [],
   "source": [
    "# create some test signals \n",
    "amultichan = Ugen().sine(freq=200, sr=2000, channels=4, cn=['a','b','c','d'])  # create a 4-channel sine\n",
    "amono = Ugen().sawtooth(freq=40, sr=2000, channels=1)  # create a 1-channel sawtooth\n",
    "anoise = Ugen().noise(sr=2000, channels=1)  # create a 1-channel white noise"
   ]
  },
  {
   "cell_type": "markdown",
   "metadata": {},
   "source": [
    "The following three lines demonstrate classical, python standard, resp. numpy standard compatible assignment:"
   ]
  },
  {
   "cell_type": "code",
   "execution_count": 50,
   "metadata": {},
   "outputs": [],
   "source": [
    "amono[3:6] = [1.0, -1.0, 0.5]  # set three samples explicitly with values\n",
    "amono[20:40] = np.zeros(20)    # set 20 samples to zero\n",
    "amono[{0.5: 0.7}] = anoise[{0.2: 0.4}]  # set a 200ms-segment to noise, requiring length match"
   ]
  },
  {
   "cell_type": "markdown",
   "metadata": {},
   "source": [
    "**bound mode**\n",
    "\n",
    "if the new array would be out of bounds given the source array, the bound mode truncates source to fit into the destination.\n",
    "\n",
    "* usage: \n",
    "    * `asig.bound[slice] = new_signal`\n",
    "    * `asig.b[slice] = new_signal`     (shortcut)\n",
    "\n",
    "* Note that b is implemented as property so that brackets '()' can be foregone and the syntax is kept lean."
   ]
  },
  {
   "cell_type": "code",
   "execution_count": 51,
   "metadata": {},
   "outputs": [
    {
     "data": {
      "text/plain": [
       "array([0., 1., 2., 3., 4., 5., 6., 7., 8., 9.], dtype=float32)"
      ]
     },
     "execution_count": 51,
     "metadata": {},
     "output_type": "execute_result"
    }
   ],
   "source": [
    "try:\n",
    "    amono[-10:] = np.ones(20)  # This won't not work and raise the exception\n",
    "except ValueError:\n",
    "    amono.b[-10:] = np.arange(20)  # The first 10 elements will be assigned. \n",
    "amono[-10:].sig"
   ]
  },
  {
   "cell_type": "markdown",
   "metadata": {},
   "source": [
    "**extend mode** \n",
    "\n",
    "if the new array would be too long to fit in the destination, the extend mode will automatically extend the destination asig as needed.\n",
    "\n",
    "* usage:\n",
    "    * `asig.extend[slice] = new_signal`\n",
    "    * `asig.x[slice] = new_signal`  (shortcut)\n",
    "* Note that x is implemented as @property, so that brackets `()` can be foregone\n",
    "* Note that this is useful for sequencing multiple audio signals "
   ]
  },
  {
   "cell_type": "code",
   "execution_count": 52,
   "metadata": {},
   "outputs": [
    {
     "data": {
      "text/plain": [
       "Asig('x-demosig'): 4 x 2200 @ 1000Hz = 2.200s cn=['a', 'b', 'c', 'd']"
      ]
     },
     "execution_count": 52,
     "metadata": {},
     "output_type": "execute_result"
    },
    {
     "data": {
      "image/png": "[encoded data removed]",
      "text/plain": [
       "<Figure size 432x288 with 1 Axes>"
      ]
     },
     "metadata": {
      "needs_background": "light"
     },
     "output_type": "display_data"
    }
   ],
   "source": [
    "a = Asig(0.8, sr=1000, channels=4, cn=['a', 'b', 'c', 'd'], label='x-demosig')\n",
    "b = Ugen().sine(freq=100, sr=1000, dur=0.6).fade_in(0.3).fade_out(0.2)\n",
    "a.x[:, 'a'] = 0.2 * b  # no need to extend as len(src)<len(dest) \n",
    "a.x[300:, 'b'] = 0.5 * b  # extends a to 0.9 seconds\n",
    "a.x[1300:, 'c'] = 0.2 * b[::2]  # extends a further, writing beyond end in the first place\n",
    "a.x[1900:, 3] = 0.2 * b[300:]  # note that 3 is 'd' as channel indexing starts with 0\n",
    "a.plot(offset=1)"
   ]
  },
  {
   "cell_type": "markdown",
   "metadata": {},
   "source": [
    "**overwrite mode** \n",
    "\n",
    "if the source and destinations have different lengths, overwrite mode \n",
    "* cuts the destination out\n",
    "* and insert the source, \n",
    "* i.e. it replaces the destination subset with another one of possibly different length\n",
    "\n",
    "*usage\n",
    "    * `asig.overwrite[slice] = new_signal`\n",
    "    * `asig.o[slice] = new_signal` (shortcut syntax)\n",
    "    \n",
    "* Note that this is useful for inserting audio segments into an existing signal\n",
    "* Note that, although you can insert an asig with a different sampling rate, overwrite only treats it as a numpy array and does not resample the source to fit to the destination."
   ]
  },
  {
   "cell_type": "code",
   "execution_count": null,
   "metadata": {},
   "outputs": [],
   "source": [
    "a = Ugen().sine(freq=5, sr=100, dur=1.0)\n",
    "a.plot(label=\"before\")\n",
    "\n",
    "b = Asig(np.ones(100))\n",
    "a.o[40:50] = b  # here the overwrite example!\n",
    "\n",
    "(a+3).plot(label=\"after\")  # offset by 3 for nicer plot\n",
    "plt.legend();"
   ]
  },
  {
   "cell_type": "markdown",
   "metadata": {},
   "source": [
    "### Normalize signal amplitude and set gain"
   ]
  },
  {
   "cell_type": "markdown",
   "metadata": {},
   "source": [
    "* norm(norm=1, dcflag) allows to normalize the signal \n",
    "    * to an extreme value given by norm>0\n",
    "    * negative values for norm are interpreted as level in dB\n",
    "* set dcflag=True to first remove DC bias."
   ]
  },
  {
   "cell_type": "code",
   "execution_count": null,
   "metadata": {},
   "outputs": [],
   "source": [
    "for n in [1, 0.5, 0.1, -6, -12, -18, -24, -30, -36, -42]:\n",
    "    asnap[{0.1:0.4}].norm(n).gain(db=-30).play(block=True)"
   ]
  },
  {
   "cell_type": "markdown",
   "metadata": {},
   "source": [
    "* remove_DC() removes the DC offset channelwise\n",
    "    * this is equivalent to `asig - asig.sig.mean(axis=0)`"
   ]
  },
  {
   "cell_type": "code",
   "execution_count": null,
   "metadata": {},
   "outputs": [],
   "source": [
    "atest = (Ugen().sine(freq=5, sr=100, dur=1.0)*0.3).stereo() + [-0.1, 0.1]\n",
    "atest.plot(offset=1, color='r', label='before DC-removal')\n",
    "atest.remove_DC().plot(offset=1, color='b',label='DC free')\n",
    "plt.legend(); plt.grid()"
   ]
  },
  {
   "cell_type": "markdown",
   "metadata": {},
   "source": [
    "* apply gain(amp=None, db=None) to returns an amplified signal\n",
    "    * db overwrites amp, so use as follows"
   ]
  },
  {
   "cell_type": "code",
   "execution_count": null,
   "metadata": {},
   "outputs": [],
   "source": [
    "# increase level by 20 db\n",
    "asnap[{0.3: 0.5}].gain(db=20).play()"
   ]
  },
  {
   "cell_type": "code",
   "execution_count": null,
   "metadata": {},
   "outputs": [],
   "source": [
    "# multiply signal with 42\n",
    "asnap[{0.3: 0.5}].gain(42).play()"
   ]
  },
  {
   "cell_type": "markdown",
   "metadata": {},
   "source": [
    "### Fading in and out, and arbitrary envelopes"
   ]
  },
  {
   "cell_type": "markdown",
   "metadata": {},
   "source": [
    "The methods \n",
    "* fade_in(dur=0.1, curve=1) and\n",
    "* fade_out(dur=0.1, curve=1)\n",
    "\n",
    "allow to apply a polynomial fading at begin (_in) or end (_out)\n",
    "* curve is the exponent to the line from 0 to 1, i.e. \n",
    "    * curve=2 is a parabolic curve, etc...\n",
    "    * curve=0.5 is a sqrt curve, etc..."
   ]
  },
  {
   "cell_type": "code",
   "execution_count": null,
   "metadata": {},
   "outputs": [],
   "source": [
    "anoise = Ugen().noise(sr=10000, channels=1)  # create a 1-channel white noise\n",
    "\n",
    "b = anoise.fade_in(0.4, curve=2).fade_out(0.4, curve=1) # try 1,2,3, 0.5, 0.33, 0.25\n",
    "b.norm().plot().play(onset=0.5)"
   ]
  },
  {
   "cell_type": "code",
   "execution_count": null,
   "metadata": {},
   "outputs": [],
   "source": [
    "anoise.fade_out(0.95, curve=8).play() # fake snare drum"
   ]
  },
  {
   "cell_type": "markdown",
   "metadata": {},
   "source": [
    "**envelope(amps, ts=None, curve=1, kind='linear')** \n",
    "\n",
    "applies arbitrary linear envelopes:\n",
    "\n",
    "* `amps` is list or array of amplitude gains\n",
    "* if `ts` is set, it needs to be the corresponding times for values in `amps`\n",
    "* `curve` (as of now) is a polynomial exponent, similar to the fade parameter\n",
    "* `kind` is either `'linear'` or `'exp'` (TODO: not yet implemented)"
   ]
  },
  {
   "cell_type": "code",
   "execution_count": null,
   "metadata": {},
   "outputs": [],
   "source": [
    "anoise.envelope([0, 1, 0.3, 0.6, 0]).plot()"
   ]
  },
  {
   "cell_type": "code",
   "execution_count": null,
   "metadata": {},
   "outputs": [],
   "source": [
    "anoise.envelope([0, 1, 0.5, 0.5, 0], [0, 0.05, 0.2, 0.6, 1]).plot() # adsr\n",
    "anoise.adsr(0.05, 0.15, 0.5, 0.4, curve=2).plot(color='r', lw=0.4)"
   ]
  },
  {
   "cell_type": "markdown",
   "metadata": {},
   "source": [
    "### Resample"
   ]
  },
  {
   "cell_type": "markdown",
   "metadata": {},
   "source": [
    "**resample(self, target_sr=44100, rate=1, kind='quadratic')**:\n",
    "\n",
    "resample signal to given sampling rate `target_sr`\n",
    "* at the same time the playback rate can be modified\n",
    "    * rate 0.5 (resp. 2) is half (resp. twice) the speed\n",
    "* use kind to control the kind of interpolation\n",
    "    * valid are those accepted by scipy.interpolate.interp1d, \n",
    "    * ('linear', 'nearest', 'zero', 'slinear', 'quadratic', 'cubic', 'previous', 'next')\n",
    "    * An integer specifies the order of the spline interpolator to use.\n",
    "    * samples are seen as time points at which a new reading is taken\n",
    "        * i.e. the left side of a rectangle in a sample and hold plot\n",
    "* **Warning**: this is not band-limited. Aliasing will occur when downsampling"
   ]
  },
  {
   "cell_type": "code",
   "execution_count": null,
   "metadata": {},
   "outputs": [],
   "source": [
    "print(asnap)\n",
    "asnap.resample(16000)   # resample signal at sampling rate"
   ]
  },
  {
   "cell_type": "code",
   "execution_count": null,
   "metadata": {},
   "outputs": [],
   "source": [
    "a = asnap[1630:1640].plot(marker='o', lw=1, color='b', markersize=6)\n",
    "a.resample(3*a.sr, kind='linear').plot(marker='.', lw=0.4, color='r')\n",
    "a.resample(9*a.sr, rate=1, kind=2).plot(marker='.', lw=0.4, color='g');"
   ]
  },
  {
   "cell_type": "markdown",
   "metadata": {},
   "source": [
    "### RMS"
   ]
  },
  {
   "cell_type": "markdown",
   "metadata": {},
   "source": [
    "`rms(axis=0)` returns the root-mean-square of the signal\n",
    "\n",
    "* no window is used\n",
    "* use `axis=1` to compute the rms samplewise over channels\n",
    "* can be used with `window_op()` (see below) to estimate the amplitude envelope of a signal"
   ]
  },
  {
   "cell_type": "code",
   "execution_count": null,
   "metadata": {},
   "outputs": [],
   "source": [
    "asnap.rms(axis=0)"
   ]
  },
  {
   "cell_type": "code",
   "execution_count": null,
   "metadata": {},
   "outputs": [],
   "source": [
    "# here rms is used in window_op to compute stepwise signal energy, see window_op() below\n",
    "asnap.plot(lw=0.1)\n",
    "asnap.window_op(nperseg=512, stride=256, win='cosine', fn='rms', pad='mirror').plot(lw=3)\n",
    "plt.axis([0,0.4, 0, 0.3]);"
   ]
  },
  {
   "cell_type": "markdown",
   "metadata": {},
   "source": [
    "### get_duration, get_times"
   ]
  },
  {
   "cell_type": "markdown",
   "metadata": {},
   "source": [
    "`get_duration()` \n",
    "* returns the duration of the signal in seconds, \n",
    "* which is computed as self.samples/self.sr"
   ]
  },
  {
   "cell_type": "code",
   "execution_count": null,
   "metadata": {},
   "outputs": [],
   "source": [
    "asnap.get_duration()"
   ]
  },
  {
   "cell_type": "markdown",
   "metadata": {},
   "source": [
    "`get_times()` \n",
    "* returns the array of timestamps for all samples, \n",
    "* i.e. `linspace(0, self.samples-1, self.samples)`"
   ]
  },
  {
   "cell_type": "code",
   "execution_count": null,
   "metadata": {},
   "outputs": [],
   "source": [
    "Asig([0, 1, 0, 1, 0, 1, 0, 1, 0.5, 0], sr=10).resample(20).get_times()  \n",
    "# try  other resampling rates, e.g. 5, 10, 20, 40"
   ]
  },
  {
   "cell_type": "markdown",
   "metadata": {},
   "source": [
    "### add"
   ]
  },
  {
   "cell_type": "markdown",
   "metadata": {},
   "source": [
    "`as1.add(sig, pos=None, amp=1, onset=None)`\n",
    "\n",
    "* linearly superimposes signal `sig` (multiplied with `amp`) on signal as1,\n",
    "* starting at position `pos`\n",
    "* a given `onset` trumps `pos`"
   ]
  },
  {
   "cell_type": "code",
   "execution_count": null,
   "metadata": {},
   "outputs": [],
   "source": [
    "aevent = Ugen().sine(freq=250, dur=0.2, label='event').fade_out(0.2, 2).play()"
   ]
  },
  {
   "cell_type": "code",
   "execution_count": null,
   "metadata": {},
   "outputs": [],
   "source": [
    "as1 = Asig(2.0, label='mix')  # the canvas\n",
    "for _ in range(100):\n",
    "    as1.add(aevent.resample(rate=6+2*np.random.randn()), onset=1.5*np.random.random())\n",
    "as1.norm().plot(lw=0.2).play(onset=1)"
   ]
  },
  {
   "cell_type": "markdown",
   "metadata": {},
   "source": [
    "### window"
   ]
  },
  {
   "cell_type": "markdown",
   "metadata": {},
   "source": [
    "`window(win='triang', **kwargs)`\n",
    "\n",
    "* applies a window function to the signal \n",
    "* the win argument and optional subsequent kwargs are forwarded to `scipy.signal.get_window()`, see documentation there\n",
    "* available functions are:\n",
    "    * boxcar, triang, blackman, hamming, hann, bartlett, flattop, parzen, bohman, blackmanharris, nuttall, barthann, kaiser (needs beta), gaussian (needs standard deviation), general_gaussian (needs power, width), slepian (needs width), dpss (needs normalized half-bandwidth), chebwin (needs attenuation), exponential (needs decay scale), tukey (needs taper fraction)\n",
    "* if parameters are needed, use a tuple instead of a string as first argument"
   ]
  },
  {
   "cell_type": "code",
   "execution_count": null,
   "metadata": {},
   "outputs": [],
   "source": [
    "anoise.window('hann').plot(color=(1,0.5,0,0.5))\n",
    "anoise.window(('gaussian', 5000)).gain(db=-6).plot(color=(0,0.5,1,0.5))"
   ]
  },
  {
   "cell_type": "markdown",
   "metadata": {},
   "source": [
    "### iirfilter"
   ]
  },
  {
   "cell_type": "markdown",
   "metadata": {},
   "source": [
    "`iirfilter(cutoff_freqs, btype='bandpass', ftype='butter', order=4, filter='lfilter', rp=None, rs=None)`\n",
    "\n",
    "filters the signal with an iirfilter \n",
    "* of given `ftype` = ‘butter’, ‘cheby1’, ‘cheby2’, ‘ellip’, ‘bessel’\n",
    "* of given `btype` = 'bandpass', 'bandstop', 'lowpass', 'highpass'\n",
    "* of given `order` (integer value)\n",
    "* filtering with given filter method \n",
    "    * default: 'lfilter', but use 'filtfilt' for forward-backword filtering\n",
    "* Note that some filters require maximum ripple dB in rp and minimum passband attenuation dB in rs\n",
    "* returns filtered signal as new signal, setting the `_` dict keys 'a' and 'b' with filter coefficients"
   ]
  },
  {
   "cell_type": "code",
   "execution_count": null,
   "metadata": {},
   "outputs": [],
   "source": [
    "af = anoise.iirfilter([140, 500], order=4, btype='bandpass', filter='lfilter')\n",
    "afs = af.to_spec().plot(lambda x: ampdb(x)-46, lw=0.2)  # why -46?\n",
    "af.plot_freqz(200, lw=3)\n",
    "plt.ylim(-70,10)\n",
    "plt.semilogx()  # comment out to see linear frequency\n",
    "af._"
   ]
  },
  {
   "cell_type": "markdown",
   "metadata": {},
   "source": [
    "### window_op"
   ]
  },
  {
   "cell_type": "markdown",
   "metadata": {},
   "source": [
    "`window_op(nperseg=64, stride=32, win=None, fn='rms', pad='mirror')`\n",
    "\n",
    "performs a windowed operation on the signal\n",
    "* using chunks of `nperseg` samples\n",
    "* selected at stride `stride`\n",
    "* applying window `win` to the chunk (any `scipy.signal.window` is possible)\n",
    "* and subjecting that signal to the function `fn` (default 'rms')\n",
    "* TODO: implement proper padding, currently the first window starts at 0, i.e. not centered at 0..."
   ]
  },
  {
   "cell_type": "code",
   "execution_count": null,
   "metadata": {},
   "outputs": [],
   "source": [
    "# here rms is used in window_op to compute stepwise signal energy, see window_op() below\n",
    "asnap.plot(lw=0.1)\n",
    "asnap.window_op(nperseg=512, stride=256, win='cosine', fn='rms', pad='mirror').plot(lw=3)\n",
    "plt.axis([0,0.4, 0, 0.3]);"
   ]
  },
  {
   "cell_type": "code",
   "execution_count": null,
   "metadata": {},
   "outputs": [],
   "source": [
    "import scipy\n",
    "# local linear correlation coefficints as signal \n",
    "# - signal statistics audification in 3 line of code\n",
    "def lk(a):\n",
    "    return scipy.stats.pearsonr(a.sig, np.arange(a.sig.shape[0]))[0]\n",
    "aword.window_op(8, 2, None, fn=lk).plot(lw=0.05).gain(0.3).play(onset=2)"
   ]
  },
  {
   "cell_type": "markdown",
   "metadata": {},
   "source": [
    "### Overlap and add demo"
   ]
  },
  {
   "cell_type": "markdown",
   "metadata": {},
   "source": [
    "`overlap_add(nperseg=64, stride_in=32, stride_out=32, win=None, pad='mirror')`\n",
    "\n",
    "cuts the signal in chunks of lengths `nperseg`\n",
    "\n",
    "* starting at sample 0 with stride `stride_in`\n",
    "* applying a window `win` to the chunks\n",
    "* and adding them together into an empty signal at stride `stride_out`\n",
    "* choosing different `stride_in` and `stride_out` results in granular time stretching \n",
    "* TODO: padding needs to be implemented..."
   ]
  },
  {
   "cell_type": "code",
   "execution_count": null,
   "metadata": {},
   "outputs": [],
   "source": [
    "atest = aword\n",
    "def ola_demo(begin=0.0, end=2.0, nperseg=128, stride_in=64, jitter_in=0, \n",
    "             stride_out=64, jitter_out=0):\n",
    "    b = atest[{begin: end}].overlap_add(nperseg, stride_in, stride_out, \n",
    "                    jitter_in=jitter_in, jitter_out=jitter_out, win='triang')\n",
    "    b.plot().norm(0.2).play()\n",
    "interact(ola_demo, nperseg=(64,1024,32), \n",
    "         stride_in=(2, 512, 1), jitter_in=(0,200,10), \n",
    "         stride_out=(2,512,1), jitter_out=(0,200,10));"
   ]
  },
  {
   "cell_type": "markdown",
   "metadata": {},
   "source": [
    "### find_events"
   ]
  },
  {
   "cell_type": "markdown",
   "metadata": {},
   "source": [
    "`find_events(self, step_dur=0.001, sil_thr=-20, sil_min_dur=0.1, sil_pad=[0.001,0.1])`\n",
    "\n",
    "detects events separated by silence\n",
    "* criterion for event start is signal to exceed the silence threshold `sil_thr` (in dB)\n",
    "* ending after sub-threshold signal of at least `sil_min_dur` seconds is observed\n",
    "* the resulting event is then padded with signal left and right given by `sil_pad` (in seconds)\n",
    "* `find_events()` returns self, but sets its results into dict self._ in key 'events'\n",
    "    * which is a ndarray with column 1 all event_start_sample and event_stop_sample in columns"
   ]
  },
  {
   "cell_type": "code",
   "execution_count": null,
   "metadata": {},
   "outputs": [],
   "source": [
    "aa = Asig(\"samples/vocal_sequence.wav\").plot() #.play()\n",
    "# or record your own...\n",
    "# arec = Asig(record(6.0), label='rec').norm()"
   ]
  },
  {
   "cell_type": "code",
   "execution_count": null,
   "metadata": {},
   "outputs": [],
   "source": [
    "aa.plot(lambda x: ampdb(abs(x)+1e-3));\n",
    "# obviously events exceed -35 dB, and noise is below that level"
   ]
  },
  {
   "cell_type": "code",
   "execution_count": null,
   "metadata": {},
   "outputs": [],
   "source": [
    "import time"
   ]
  },
  {
   "cell_type": "code",
   "execution_count": null,
   "metadata": {},
   "outputs": [],
   "source": [
    "aa.find_events(step_dur=0.001, sil_thr=-35, sil_min_dur=0.1, sil_pad=[0.001,0.05])\n",
    "aa._['events']"
   ]
  },
  {
   "cell_type": "code",
   "execution_count": null,
   "metadata": {},
   "outputs": [],
   "source": [
    "# play and plot all events\n",
    "for i, (a,e) in enumerate(aa._['events']):\n",
    "    aa[a:e].norm().play(onset=0.2+0.2*i)[::20].plot(lambda x: i+0.5*x, lw=0.5, color='r')"
   ]
  },
  {
   "cell_type": "code",
   "execution_count": null,
   "metadata": {},
   "outputs": [],
   "source": [
    "# show all event onsets\n",
    "aa._['events'][:,0]"
   ]
  },
  {
   "cell_type": "markdown",
   "metadata": {},
   "source": [
    "### select_event"
   ]
  },
  {
   "cell_type": "markdown",
   "metadata": {},
   "source": [
    "`select_event(index=None, onset=None)`\n",
    "\n",
    "allows to easily select an event in an audio file\n",
    "\n",
    "* it uses the _['events'] entry as set either manually or via the previous `find_events()` method\n",
    "* `index` specifies the number in the list, starting with 0\n",
    "* the event is sliced from the signal using the begin and end samples\n",
    "* a given `onset` trumps `index` and selects that event whose begin is closest to the given onset\n",
    "    * TODO: preferred: the event in which the onset lies should be preferred to the nearest begin..."
   ]
  },
  {
   "cell_type": "code",
   "execution_count": null,
   "metadata": {},
   "outputs": [],
   "source": [
    "aa.select_event(4).norm(-6).plot().play(0.8)"
   ]
  },
  {
   "cell_type": "code",
   "execution_count": null,
   "metadata": {},
   "outputs": [],
   "source": [
    "aa.select_event(onset=5.2).plot().play()"
   ]
  },
  {
   "cell_type": "markdown",
   "metadata": {},
   "source": [
    "### plot_spectrum"
   ]
  },
  {
   "cell_type": "code",
   "execution_count": null,
   "metadata": {},
   "outputs": [],
   "source": [
    "asnap = Asig(\"samples/snap.wav\", label='snap')\n",
    "asnap.plot_spectrum(lw=0.5)  #plots spectrum magnitude and phase"
   ]
  },
  {
   "cell_type": "markdown",
   "metadata": {},
   "source": [
    "### spectrogram"
   ]
  },
  {
   "cell_type": "code",
   "execution_count": null,
   "metadata": {},
   "outputs": [],
   "source": [
    "plt.subplot(211); \n",
    "a = asnap.norm().plot('db');plt.xlim(0, 1)\n",
    "freqs, times, S = a.spectrogram(nperseg=512)\n",
    "\n",
    "plt.subplot(212);\n",
    "plt.pcolormesh(times, freqs, ampdb(np.abs(S)+1e-10), cmap='hot')\n",
    "plt.colorbar();"
   ]
  },
  {
   "cell_type": "markdown",
   "metadata": {},
   "source": [
    "### to_spec"
   ]
  },
  {
   "cell_type": "code",
   "execution_count": null,
   "metadata": {},
   "outputs": [],
   "source": [
    "aword = Asig(\"samples/sonification.wav\", label='word')\n",
    "aword_spec = aword.to_spec()\n",
    "aword_spec.plot()"
   ]
  },
  {
   "cell_type": "markdown",
   "metadata": {},
   "source": [
    "### fun stuff..."
   ]
  },
  {
   "cell_type": "code",
   "execution_count": null,
   "metadata": {},
   "outputs": [],
   "source": [
    "#.to_spec().weight([0,1,0.3, 0.1], [800, 1200, 5500, 12000]).to_sig() #.norm().play()\n",
    "# as3[15000::].tslice(0,0.5).norm().fade_in(0.2).fade_out(0.2).to_spec().weight([0, 1,5,1], [4000, 4001, 9000, 13000]).plot() # to_sig().play(0.5)\n",
    "# gain(amp=1).plot_spectrum()\n",
    "# as3[0:7000].resample(rate=0.125).norm().fade_in(0.2, curve=2).fade_out(0.1, curve=4).play()"
   ]
  },
  {
   "cell_type": "code",
   "execution_count": null,
   "metadata": {},
   "outputs": [],
   "source": [
    "# aa = Asig(np.random.random(10000)-0.5, 8000)\n",
    "h = asnap[6000:15000].resample(8000).to_spec().weight([0,1,0.2,0], [100, 1510, 1920, 2990], curve=1)\n",
    "h.plot() # rfftspec\n",
    "h.to_sig().norm().gain(0.2).play(1)"
   ]
  },
  {
   "cell_type": "markdown",
   "metadata": {},
   "source": [
    "## Asig synthesis/sonification examples"
   ]
  },
  {
   "cell_type": "code",
   "execution_count": null,
   "metadata": {},
   "outputs": [],
   "source": [
    "sr = 44100\n",
    "t = np.linspace(0, 1, sr)\n",
    "v = np.sin(2*np.pi*101*t**1.5)\n",
    "si = Asig(v, sr, \"chirp\").envelope([0,1,0], [0,0.05,1], curve=1.9)\n",
    "# si.window_op(64, 256, fn=lambda a: np.max(a.sig)).norm(0.9).plot()\n",
    "%time si[::4].window_op(256, 128, fn='rms', win='bartlett').plot()"
   ]
  },
  {
   "cell_type": "code",
   "execution_count": null,
   "metadata": {},
   "outputs": [],
   "source": [
    "sr = 8000\n",
    "t = np.linspace(0, 0.4, int(sr*0.2))\n",
    "v = np.sin(2*np.pi*200*t**1.1)\n",
    "si = Asig(v, sr, \"chirp\").fade_in(0.01).envelope([0,1,0], [0,0.03,0.2], curve=4).plot().stereo().play()"
   ]
  },
  {
   "cell_type": "code",
   "execution_count": null,
   "metadata": {},
   "outputs": [],
   "source": [
    "son = Asig(np.zeros(5*sr), sr, \"sonification\")"
   ]
  },
  {
   "cell_type": "code",
   "execution_count": null,
   "metadata": {},
   "outputs": [],
   "source": [
    "si.resample(sr, rate=1+2*np.random.random())"
   ]
  },
  {
   "cell_type": "code",
   "execution_count": null,
   "metadata": {},
   "outputs": [],
   "source": [
    "for i in range(500):\n",
    "    onset = np.random.randint(0, 4000)/1000\n",
    "    amp = abs((i-250)/250)\n",
    "    son.add(si.mono().resample(son.sr, rate=1+2*np.random.random()), onset=onset, amp=amp)\n",
    "son.norm().play()\n",
    "son.plot();"
   ]
  },
  {
   "cell_type": "markdown",
   "metadata": {},
   "source": [
    "## Aspec - Audio Spectrum class"
   ]
  },
  {
   "cell_type": "markdown",
   "metadata": {},
   "source": [
    "Examples / Documentation: TODO"
   ]
  },
  {
   "cell_type": "markdown",
   "metadata": {},
   "source": [
    "### init"
   ]
  },
  {
   "cell_type": "markdown",
   "metadata": {},
   "source": [
    "### repr"
   ]
  },
  {
   "cell_type": "markdown",
   "metadata": {},
   "source": [
    "### plot"
   ]
  },
  {
   "cell_type": "markdown",
   "metadata": {},
   "source": [
    "### weight"
   ]
  },
  {
   "cell_type": "markdown",
   "metadata": {},
   "source": [
    "### to_sig"
   ]
  },
  {
   "cell_type": "markdown",
   "metadata": {},
   "source": [
    "## Astft - Audio STFT class"
   ]
  },
  {
   "cell_type": "code",
   "execution_count": null,
   "metadata": {},
   "outputs": [],
   "source": [
    "# araw = Asig(record(3), 44100, 'vocal').norm()\n",
    "# a = araw[30000:80000].resample(22050)"
   ]
  },
  {
   "cell_type": "code",
   "execution_count": null,
   "metadata": {},
   "outputs": [],
   "source": [
    "a.norm().play()"
   ]
  },
  {
   "cell_type": "code",
   "execution_count": null,
   "metadata": {},
   "outputs": [],
   "source": [
    "ast = Astft(a, nperseg=64)\n",
    "ast"
   ]
  },
  {
   "cell_type": "code",
   "execution_count": null,
   "metadata": {},
   "outputs": [],
   "source": [
    "ast.plot(ampdb)"
   ]
  },
  {
   "cell_type": "code",
   "execution_count": null,
   "metadata": {},
   "outputs": [],
   "source": [
    "ast.plot(np.log10);"
   ]
  },
  {
   "cell_type": "code",
   "execution_count": null,
   "metadata": {},
   "outputs": [],
   "source": [
    "ast.to_sig().norm(0.8).play()"
   ]
  },
  {
   "cell_type": "code",
   "execution_count": null,
   "metadata": {},
   "outputs": [],
   "source": [
    "import copy\n",
    "ast2 = copy.deepcopy(ast)"
   ]
  },
  {
   "cell_type": "markdown",
   "metadata": {},
   "source": [
    "## Amfcc"
   ]
  },
  {
   "cell_type": "markdown",
   "metadata": {},
   "source": [
    "* Amfcc is class for Mel-frequency cepstral coefficients. "
   ]
  },
  {
   "cell_type": "code",
   "execution_count": null,
   "metadata": {},
   "outputs": [],
   "source": [
    "from pya import *\n",
    "\n",
    "sound1 = Ugen().square(freq=300, amp=0.8, label='square wave')\n",
    "sound2 = sound1 + Ugen().noise(amp=0.3)\n",
    "sound2.label = 'square wave with white noise'\n",
    "sound3 = sound1 + Ugen().sine(freq=100, amp=0.8)\n",
    "sound3.label = 'square wave with sine wave'"
   ]
  },
  {
   "cell_type": "code",
   "execution_count": null,
   "metadata": {},
   "outputs": [],
   "source": [
    "gridplot([sound1,sound1.to_stft(),sound3], colwrap=2);"
   ]
  },
  {
   "cell_type": "markdown",
   "metadata": {},
   "source": [
    "## AServer"
   ]
  },
  {
   "cell_type": "markdown",
   "metadata": {},
   "source": [
    "* AServer is an audio server for coordinating multi-channel audio output via pyaudio / portaudio\n",
    "    * it provides basic functions to list and select audio interfaces\n",
    "    * it allows to schedule Asigs for playback at a certain absolute time or relative time difference \n",
    "    * and manages the superposition of multichannel signals for threaded computation of the required audio frame blocks for pyaudio.\n",
    "* Aserver furthermore serves as parent class for Arecorder - which allows stream-based input"
   ]
  },
  {
   "cell_type": "code",
   "execution_count": null,
   "metadata": {},
   "outputs": [],
   "source": [
    "# Boot up the audio server\n",
    "# Aserver(sr=44100, bs=256, device=None, channels=2, format=pyaudio.paFloat32)\n",
    "s = Aserver(backend=auto_backend)  \n",
    "Aserver.default = s  # set default Aserver to use play() w/o explicit arg\n",
    "s.boot()"
   ]
  },
  {
   "cell_type": "markdown",
   "metadata": {},
   "source": [
    "* get_devices(verbose=True) \n",
    "    * prints all input devices and \n",
    "    * returns the list of dictionaries with all details"
   ]
  },
  {
   "cell_type": "code",
   "execution_count": null,
   "metadata": {},
   "outputs": [],
   "source": [
    "res = s.get_devices(verbose=False)\n",
    "print(f\"{len(res[0])} input and {len(res[1])} output devices\")\n",
    "print(f\"=== First input device: \\n{res[0][0]}\\n\")\n",
    "print(f\"=== First output device: \\n{res[1][0]}\")"
   ]
  },
  {
   "cell_type": "code",
   "execution_count": null,
   "metadata": {},
   "outputs": [],
   "source": [
    "device_info()"
   ]
  },
  {
   "cell_type": "markdown",
   "metadata": {},
   "source": [
    "##  Arecorder - Audio Recorder"
   ]
  },
  {
   "cell_type": "markdown",
   "metadata": {},
   "source": [
    "Arecorder is a class to establish a pyaudio stream to process audio input data.\n",
    "* Several Arecorder instances, operating on different audio devices can be used simultaneously\n",
    "\n",
    "Arecorder provides the following methods (to be extended)\n",
    "* On `boot()`, the stream is opened and started.\n",
    "    * On each incoming audio block, the Arecorder-internal callback function _recording_callback() is called.\n",
    "    * According to recorder state, data is appended to the record_buffer list or ignored\n",
    "* by `record()`, the recorder starts a new (or continues a paused) recording\n",
    "* on `pause()`, it pauses and does nothing else\n",
    "* on `stop()`, the collected data in record_buffer is converted into an Asig, which is appended to recordings\n",
    "\n",
    "Recordings are stored in Arecorder.recordings, a list of Asigs\n",
    "* use `recordings.clear()` to reset/empty the list\n",
    "* use `recordings[-1]` to access the newest recording\n",
    "* use `recordings.pop()` to get next in FILO manner\n",
    "* use `recordings.pop(0)` to get next in FIFO manner"
   ]
  },
  {
   "cell_type": "code",
   "execution_count": null,
   "metadata": {},
   "outputs": [],
   "source": [
    "from pya import Arecorder, Aserver, device_info\n",
    "ar = Arecorder(sr=44100, bs=512, backend=auto_backend)\n",
    "ar.boot()"
   ]
  },
  {
   "cell_type": "code",
   "execution_count": null,
   "metadata": {},
   "outputs": [],
   "source": [
    "s = Aserver(sr=44100, backend=auto_backend)  \n",
    "Aserver.default = s  # set default Aserver to use play() w/o explicit arg\n",
    "s.boot()"
   ]
  },
  {
   "cell_type": "code",
   "execution_count": null,
   "metadata": {},
   "outputs": [],
   "source": [
    "ar.record() # make some sound while this probably records audio data from your microphone"
   ]
  },
  {
   "cell_type": "code",
   "execution_count": null,
   "metadata": {},
   "outputs": [],
   "source": [
    "ar.pause()"
   ]
  },
  {
   "cell_type": "code",
   "execution_count": null,
   "metadata": {},
   "outputs": [],
   "source": [
    "ar.record()  # resume recording"
   ]
  },
  {
   "cell_type": "code",
   "execution_count": null,
   "metadata": {},
   "outputs": [],
   "source": [
    "ar.stop() # data is now being copied to recordings"
   ]
  },
  {
   "cell_type": "code",
   "execution_count": null,
   "metadata": {},
   "outputs": [],
   "source": [
    "ar.recordings  # Each stop() called append a new recording into Arecorder.recordings list"
   ]
  },
  {
   "cell_type": "code",
   "execution_count": null,
   "metadata": {},
   "outputs": [],
   "source": [
    "a1 = ar.recordings[-1] # get newest recording"
   ]
  },
  {
   "cell_type": "code",
   "execution_count": null,
   "metadata": {},
   "outputs": [],
   "source": [
    "a1.norm().plot(offset=1).play()"
   ]
  },
  {
   "cell_type": "code",
   "execution_count": null,
   "metadata": {},
   "outputs": [],
   "source": [
    "ar.recordings.clear()\n",
    "ar.recordings"
   ]
  },
  {
   "cell_type": "code",
   "execution_count": null,
   "metadata": {},
   "outputs": [],
   "source": [
    "ar.quit()  # quit the recorder if is not needed - this saves CPU as the stream is closed"
   ]
  },
  {
   "cell_type": "markdown",
   "metadata": {},
   "source": [
    "* To choose a different audio input or output device than the default, set input_device or output_device (which are python @properties) by assigning the integer index associated to the device. \n",
    "* Use `device_info()` to get a list of available devices, see pya helpers function. "
   ]
  },
  {
   "cell_type": "code",
   "execution_count": null,
   "metadata": {},
   "outputs": [],
   "source": [
    "device_info()  # Function returns a string"
   ]
  },
  {
   "cell_type": "markdown",
   "metadata": {},
   "source": [
    "Alternatively, use `get_devices()` which returns two lists for inputs and outputs"
   ]
  },
  {
   "cell_type": "code",
   "execution_count": null,
   "metadata": {},
   "outputs": [],
   "source": [
    "#get_devices() returns dicts of both input and output devices. You can check their index with it. \n",
    "input_devices, output_devices = Arecorder(backend=auto_backend).get_devices()\n",
    "input_devices"
   ]
  },
  {
   "cell_type": "markdown",
   "metadata": {},
   "source": [
    "To change devices, simply set the property before booting"
   ]
  },
  {
   "cell_type": "code",
   "execution_count": null,
   "metadata": {},
   "outputs": [],
   "source": [
    "# Ways of switching devices\n",
    "correct_input_index = input_devices[0]['index']  # The number should reflect your actual input device index. \n",
    "input_channels= input_devices[0]['maxInputChannels']\n",
    "print(f'Device index is {correct_input_index}')\n",
    "print(f'Input channels will be {input_channels}')\n",
    "\n",
    "# 1. Change the device attribute\n",
    "ar.device = correct_input_index\n",
    "ar.boot()  # Then don't forget to reboot afterward\n",
    "\n",
    "# 2. Use set_device(idx, reboot=True)\n",
    "ar.set_device(correct_input_index)  # By default it will reboot\n",
    "ar.quit()  # quit this device to release resources\n",
    "\n",
    "# 3 Create a new Arecorder object\n",
    "ar = Arecorder(device=correct_input_index, channels=input_channels, backend=auto_backend).boot()\n",
    "print(ar)\n",
    "ar.quit()  # quit recording server"
   ]
  }
 ],
 "metadata": {
  "kernelspec": {
   "display_name": "Python 3",
   "language": "python",
   "name": "python3"
  },
  "language_info": {
   "codemirror_mode": {
    "name": "ipython",
    "version": 3
   },
   "file_extension": ".py",
   "mimetype": "text/x-python",
   "name": "python",
   "nbconvert_exporter": "python",
   "pygments_lexer": "ipython3",
   "version": "3.7.7"
  },
  "toc": {
   "base_numbering": 1,
   "nav_menu": {},
   "number_sections": true,
   "sideBar": true,
   "skip_h1_title": false,
   "title_cell": "Table of Contents",
   "title_sidebar": "Contents",
   "toc_cell": false,
   "toc_position": {},
   "toc_section_display": true,
   "toc_window_display": true
  }
 },
 "nbformat": 4,
 "nbformat_minor": 4
}
