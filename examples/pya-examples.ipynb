{
 "cells": [
  {
   "cell_type": "markdown",
   "metadata": {},
   "source": [
    "# pyA - Python Audio Coding Package Examples\n",
    "(c) 2019 by Thomas Hermann, Bielefeld University, Bielefeld, Germany"
   ]
  },
  {
   "cell_type": "code",
   "execution_count": null,
   "metadata": {},
   "outputs": [],
   "source": [
    "from pya import *"
   ]
  },
  {
   "cell_type": "code",
   "execution_count": null,
   "metadata": {},
   "outputs": [],
   "source": [
    "import numpy as np\n",
    "import matplotlib.pyplot as plt\n",
    "from ipywidgets import interact, fixed, widgets\n",
    "%matplotlib qt5\n",
    "%matplotlib inline"
   ]
  },
  {
   "cell_type": "markdown",
   "metadata": {
    "heading_collapsed": true
   },
   "source": [
    "## Asig Audio Signal class"
   ]
  },
  {
   "cell_type": "code",
   "execution_count": null,
   "metadata": {
    "hidden": true
   },
   "outputs": [],
   "source": [
    "# help(Asig)  # uncomment to see details"
   ]
  },
  {
   "cell_type": "markdown",
   "metadata": {
    "heading_collapsed": true,
    "hidden": true
   },
   "source": [
    "### Creating Audio Signals as Asig instances"
   ]
  },
  {
   "cell_type": "markdown",
   "metadata": {
    "hidden": true
   },
   "source": [
    "* An Asig(sig, sr, label) can be created by passing as sig\n",
    "    * (1) a numpy ndarray,\n",
    "        * the fast index is for time, the slow index for channels\n",
    "        * sr=44100 is the default sampling rate in Hz, if no other value is given\n",
    "    * (2) a filename,\n",
    "        * the file is loaded via scipy.io.loadwav, \n",
    "        * converted to float64 within [-1,1] without normalization, \n",
    "        * sampling rate sr is taken from the file. \n",
    "        * Multi-channel audio is supported.\n",
    "    * (3) an integer\n",
    "        * an empty (zero) signal with the given number of samples is created\n",
    "    * (4) a float\n",
    "        * an empty (zero) signal of given duration is created"
   ]
  },
  {
   "cell_type": "code",
   "execution_count": null,
   "metadata": {
    "hidden": true
   },
   "outputs": [],
   "source": [
    "# load an impact sound \n",
    "asnap = Asig(\"samples/snap.wav\", label='snap')\n",
    "asnap"
   ]
  },
  {
   "cell_type": "markdown",
   "metadata": {
    "hidden": true
   },
   "source": [
    "* the \\_\\_repr\\_\\_() reports basic channels x samples @ sampling_rate = duration"
   ]
  },
  {
   "cell_type": "code",
   "execution_count": null,
   "metadata": {
    "hidden": true
   },
   "outputs": [],
   "source": [
    "# load a speech sample\n",
    "aword = Asig(\"samples/sonification.wav\", label='word')\n",
    "aword"
   ]
  },
  {
   "cell_type": "code",
   "execution_count": null,
   "metadata": {
    "hidden": true
   },
   "outputs": [],
   "source": [
    "# create a signal from data\n",
    "anoise = Asig(np.random.randn(44100), sr=44100, label='noise')\n",
    "anoise"
   ]
  },
  {
   "cell_type": "code",
   "execution_count": null,
   "metadata": {
    "hidden": true
   },
   "outputs": [],
   "source": [
    "# record an audio signal\n",
    "arec = Asig(record(2.0), label='rec').norm()"
   ]
  },
  {
   "cell_type": "code",
   "execution_count": null,
   "metadata": {
    "hidden": true
   },
   "outputs": [],
   "source": [
    "# create 2s silence at default sr\n",
    "Asig(2.0, label='sonification')"
   ]
  },
  {
   "cell_type": "markdown",
   "metadata": {
    "heading_collapsed": true,
    "hidden": true
   },
   "source": [
    "### Plot and play Asigs"
   ]
  },
  {
   "cell_type": "markdown",
   "metadata": {
    "hidden": true
   },
   "source": [
    "* play(rate=1, block=False) allows to control the rate\n",
    "    * 1=original rate, 2=twice as fast, 0.5=half time\n",
    "    * internally the signal is resampled before sending to audio output\n",
    "    * currently simpleaudio is used for playback\n",
    "    * by default the sound is non-blocking\n",
    "* play returns self but sets the key 'play' in dict self._ with the player instance"
   ]
  },
  {
   "cell_type": "code",
   "execution_count": null,
   "metadata": {
    "hidden": true
   },
   "outputs": [],
   "source": [
    "asnap.play()  # try with 0.5, 0.1"
   ]
  },
  {
   "cell_type": "code",
   "execution_count": null,
   "metadata": {
    "hidden": true
   },
   "outputs": [],
   "source": [
    "aword.play(0.7)  # try with 0.5, 0.1"
   ]
  },
  {
   "cell_type": "markdown",
   "metadata": {
    "hidden": true
   },
   "source": [
    "* plot(fn=None, **kwargs):\n",
    "    * fn either accepts a string e.g. 'db' for decibel plotting\n",
    "        * this assumes 16bit=96dB for full signal\n",
    "    * or fn can be a function for custom warping\n",
    "* plot plots the signal using matplotlib\n",
    "    * return value is the lines\n",
    "    * kwargs are propagated to the plot()\n",
    "* plot returns self but sets the 'plot' key in dict _ with the matplotlib.lines.Line2D "
   ]
  },
  {
   "cell_type": "code",
   "execution_count": null,
   "metadata": {
    "hidden": true
   },
   "outputs": [],
   "source": [
    "aword.plot(lambda x: ampdb(abs(x)+0.01), lw=0.5, color=\"r\")  # try also with arg 'db'"
   ]
  },
  {
   "cell_type": "code",
   "execution_count": null,
   "metadata": {
    "hidden": true
   },
   "outputs": [],
   "source": [
    "aword.plot(lambda x: ampdb(abs(x)*1e2+1), lw=0.15)\n",
    "aword.plot(lambda x: 100*abs(x)**2, color='red', lw=0.25)"
   ]
  },
  {
   "cell_type": "code",
   "execution_count": null,
   "metadata": {
    "hidden": true
   },
   "outputs": [],
   "source": [
    "anoise.play(block=True)\n",
    "arec.play(block=True)"
   ]
  },
  {
   "cell_type": "code",
   "execution_count": null,
   "metadata": {
    "hidden": true
   },
   "outputs": [],
   "source": [
    "# demonstrate plot() and play() daisy-chained and subsequent access to the _ dict\n",
    "asnap.plot(marker='o', mfc='r', ms=7, lw=0.1).play()._['plot'][0].set_markevery((700, 200))\n",
    "plt.xlim(0, 0.2);\n",
    "asnap._"
   ]
  },
  {
   "cell_type": "markdown",
   "metadata": {
    "heading_collapsed": true,
    "hidden": true
   },
   "source": [
    "### Accessing items, slicing and time slicing "
   ]
  },
  {
   "cell_type": "markdown",
   "metadata": {
    "hidden": true
   },
   "source": [
    "* The signal is stored in the attribute self.sig\n",
    "* you can read and assign to that attribute directly\n",
    "    * note that by doing so you are responsible for keeping \n",
    "        self.sr and self.samples valid\n",
    "* slicing works just as with arrays, sample-accurate"
   ]
  },
  {
   "cell_type": "code",
   "execution_count": null,
   "metadata": {
    "hidden": true
   },
   "outputs": [],
   "source": [
    "b = aword[5000:57000].plot()\n",
    "b"
   ]
  },
  {
   "cell_type": "code",
   "execution_count": null,
   "metadata": {
    "hidden": true
   },
   "outputs": [],
   "source": [
    "b.sig *= 0.5+0.2*np.sin(2*np.pi*15*b.get_times())  # ampl modulation\n",
    "b.plot().norm().play()\n",
    "# note that repeated cell executions changes signal more and more"
   ]
  },
  {
   "cell_type": "markdown",
   "metadata": {
    "hidden": true
   },
   "source": [
    "* use full slice [start:stop:stride] to downsample or reverse signal"
   ]
  },
  {
   "cell_type": "code",
   "execution_count": null,
   "metadata": {
    "hidden": true
   },
   "outputs": [],
   "source": [
    "aword[-1:0:-1].play(1)  # reversed word"
   ]
  },
  {
   "cell_type": "code",
   "execution_count": null,
   "metadata": {
    "hidden": true
   },
   "outputs": [],
   "source": [
    "def test_stride(stride=2):\n",
    "    aword[0:40000:stride].play()\n",
    "interact(test_stride, stride=(1,20,1));"
   ]
  },
  {
   "cell_type": "markdown",
   "metadata": {
    "hidden": true
   },
   "source": [
    "* slicing with time: using tslice()"
   ]
  },
  {
   "cell_type": "code",
   "execution_count": null,
   "metadata": {
    "hidden": true
   },
   "outputs": [],
   "source": [
    "b = asnap.tslice(0.0, 0.4).plot().play() # try to adjust first arg to begin of snap"
   ]
  },
  {
   "cell_type": "markdown",
   "metadata": {
    "heading_collapsed": true,
    "hidden": true
   },
   "source": [
    "### Normalize signal amplitude and set gain"
   ]
  },
  {
   "cell_type": "markdown",
   "metadata": {
    "hidden": true
   },
   "source": [
    "* norm(norm=1, dcflag) allows to normalize the signal \n",
    "    * to an extreme value given by norm>0\n",
    "    * negative norm are interpreted as level in dB\n",
    "* set dcflag=True to first remove DC bias."
   ]
  },
  {
   "cell_type": "code",
   "execution_count": null,
   "metadata": {
    "hidden": true
   },
   "outputs": [],
   "source": [
    "for n in [1, 0.5, 0.1, -6, -12, -18, -24, -30, -36, -42]:\n",
    "    asnap.tslice(0.1,0.4).norm(n).play(block=True)"
   ]
  },
  {
   "cell_type": "markdown",
   "metadata": {
    "hidden": true
   },
   "source": [
    "* apply gain(amp=None, db=None) to returns an amplified signal\n",
    "    * db overwrites amp, so use as follows"
   ]
  },
  {
   "cell_type": "code",
   "execution_count": null,
   "metadata": {
    "hidden": true
   },
   "outputs": [],
   "source": [
    "# increase level by 20 db\n",
    "asnap.tslice(0.3, 0.5).gain(db=20).play()"
   ]
  },
  {
   "cell_type": "code",
   "execution_count": null,
   "metadata": {
    "hidden": true
   },
   "outputs": [],
   "source": [
    "# multiply signal with 42\n",
    "asnap.tslice(0.3, 0.5).gain(42).play()"
   ]
  },
  {
   "cell_type": "markdown",
   "metadata": {
    "heading_collapsed": true,
    "hidden": true
   },
   "source": [
    "### Fading in and out, and arbitrary envelopes"
   ]
  },
  {
   "cell_type": "markdown",
   "metadata": {
    "hidden": true
   },
   "source": [
    "The methods \n",
    "* fade_in(dur=0.1, curve=1) and\n",
    "* fade_out(dur=0.1, curve=1)\n",
    "\n",
    "allow to apply a polynomial fading at begin (_in) or end (_out)\n",
    "* curve is the exponent to the line from 0 to 1, i.e. \n",
    "    * curve=2 is a parabolic curve, etc...\n",
    "    * curve=0.5 is a sqrt curve, etc..."
   ]
  },
  {
   "cell_type": "code",
   "execution_count": null,
   "metadata": {
    "hidden": true
   },
   "outputs": [],
   "source": [
    "b = anoise.fade_in(0.4, curve=1).fade_out(0.4, curve=1) # try 1,2,3, 0.5, 0.33, 0.25\n",
    "b.norm().play(1).plot()"
   ]
  },
  {
   "cell_type": "code",
   "execution_count": null,
   "metadata": {
    "hidden": true
   },
   "outputs": [],
   "source": [
    "anoise.fade_in(0.00, curve=1).fade_out(0.95, curve=8).play().plot() # snare drum"
   ]
  },
  {
   "cell_type": "markdown",
   "metadata": {
    "hidden": true
   },
   "source": [
    "**envelope(amps, ts=None, curve=1, kind='linear')** \n",
    "allows to apply arbitrary linear envelopes\n",
    "* amps is list or array of amplitude gains\n",
    "* ts, is set, needs to be corresponding times for values in amp\n",
    "* curve (as of now) is a polynomial exponent\n",
    "* kind is either 'linear' or 'exp' (not yet implemented)"
   ]
  },
  {
   "cell_type": "code",
   "execution_count": null,
   "metadata": {
    "hidden": true
   },
   "outputs": [],
   "source": [
    "anoise.envelope([0,1,0.3,0.6,0]).plot()"
   ]
  },
  {
   "cell_type": "code",
   "execution_count": null,
   "metadata": {
    "hidden": true
   },
   "outputs": [],
   "source": [
    "plt.subplot(211)\n",
    "anoise.envelope([0,1,0.5,0.5,0], [0,0.05,0.2,0.6,1]).plot() # adsr\n",
    "plt.subplot(212)\n",
    "anoise.adsr(0.05, 0.15, 0.5, 0.4, curve=2).plot(color='r', lw=0.4)"
   ]
  },
  {
   "cell_type": "markdown",
   "metadata": {
    "heading_collapsed": true,
    "hidden": true
   },
   "source": [
    "### Resample"
   ]
  },
  {
   "cell_type": "markdown",
   "metadata": {
    "hidden": true
   },
   "source": [
    "**resample(self, target_sr=44100, rate=1, kind='quadratic')**:\n",
    "* resample signal at sampling rate\n",
    "* at the same time the playback rate can be modified\n",
    "    * rate 0.5 (resp. 2) is half (resp. twice) the speed\n",
    "* use kind to control the kind of interpolation\n",
    "    * valid are those accepted by scipy.interpolate.interp1d, \n",
    "    * ('linear', 'nearest', 'zero', 'slinear', 'quadratic', 'cubic', 'previous', 'next')\n",
    "    * An integer specifies the order of the spline interpolator to use.\n",
    "    * samples are seen as time points at which a new reading is taken\n",
    "        * i.e. the left side of a rectangle in a sample and hold plot\n",
    "* **Warning**: this is not band-limited. Aliasing will occur when downsampling"
   ]
  },
  {
   "cell_type": "code",
   "execution_count": null,
   "metadata": {
    "hidden": true
   },
   "outputs": [],
   "source": [
    "print(asnap)\n",
    "asnap.resample(16000)   # resample signal at sampling rate"
   ]
  },
  {
   "cell_type": "code",
   "execution_count": null,
   "metadata": {
    "hidden": true
   },
   "outputs": [],
   "source": [
    "a = asnap[1630:1640]\n",
    "a.plot(marker='o', lw=1, color='b', markersize=6)\n",
    "a.resample(3*a.sr, kind='linear').plot(marker='.', lw=0.4, color='r')\n",
    "a.resample(9*a.sr, rate=1, kind=2).plot(marker='.', lw=0.4, color='g');"
   ]
  },
  {
   "cell_type": "code",
   "execution_count": null,
   "metadata": {
    "hidden": true
   },
   "outputs": [],
   "source": [
    "asnap.play(block=True).resample(8000).play(block=True)  # beware of aliasing"
   ]
  },
  {
   "cell_type": "markdown",
   "metadata": {
    "heading_collapsed": true,
    "hidden": true
   },
   "source": [
    "### RMS"
   ]
  },
  {
   "cell_type": "markdown",
   "metadata": {
    "hidden": true
   },
   "source": [
    "rms(axis=0) returns the root-mean-square of the signal\n",
    "* no window is used\n",
    "* use axis=1 to compute the rms samplewise over channels\n",
    "* can be used with window_op() see below to estimate the amplitude envelope of a signal"
   ]
  },
  {
   "cell_type": "code",
   "execution_count": null,
   "metadata": {
    "hidden": true
   },
   "outputs": [],
   "source": [
    "asnap.rms(axis=0)"
   ]
  },
  {
   "cell_type": "code",
   "execution_count": null,
   "metadata": {
    "hidden": true
   },
   "outputs": [],
   "source": [
    "# here rms is used in window_op to compute stepwise signal energy, see window_op() below\n",
    "asnap.plot(lw=0.1)\n",
    "asnap.window_op(nperseg=512, stride=256, win='cosine', fn='rms', pad='mirror').plot(lw=3)\n",
    "plt.axis([0,0.4, 0, 0.3]);"
   ]
  },
  {
   "cell_type": "markdown",
   "metadata": {
    "heading_collapsed": true,
    "hidden": true
   },
   "source": [
    "### get_duration, get_times"
   ]
  },
  {
   "cell_type": "markdown",
   "metadata": {
    "hidden": true
   },
   "source": [
    "get_duration() returns the duration of the signal in seconds, computed as self.samples/self.sr"
   ]
  },
  {
   "cell_type": "code",
   "execution_count": null,
   "metadata": {
    "hidden": true
   },
   "outputs": [],
   "source": [
    "asnap.get_duration()"
   ]
  },
  {
   "cell_type": "markdown",
   "metadata": {
    "hidden": true
   },
   "source": [
    "get_times() returns the array of timestamps for all samples, i.e. linspace(0,self.samples-1, self.samples)"
   ]
  },
  {
   "cell_type": "code",
   "execution_count": null,
   "metadata": {
    "hidden": true
   },
   "outputs": [],
   "source": [
    "Asig([0,1,0,1,0,1,0,1,0.5,0], sr=10).resample(20).get_times()  # try  other resampling rates, e.g. 5, 10, 20, 40"
   ]
  },
  {
   "cell_type": "markdown",
   "metadata": {
    "heading_collapsed": true,
    "hidden": true
   },
   "source": [
    "### add"
   ]
  },
  {
   "cell_type": "markdown",
   "metadata": {
    "hidden": true
   },
   "source": [
    "as.add(sig, pos=None, amp=1, onset=None) \n",
    "* linearly superimposes signal sig (multiplied with amp) on signal as,\n",
    "* starting at position pos\n",
    "* onset overwrites pos, if specified"
   ]
  },
  {
   "cell_type": "code",
   "execution_count": null,
   "metadata": {
    "hidden": true
   },
   "outputs": [],
   "source": [
    "as1 = Asig(2.0, label='mix')"
   ]
  },
  {
   "cell_type": "code",
   "execution_count": null,
   "metadata": {
    "hidden": true
   },
   "outputs": [],
   "source": [
    "aev = Asig(np.sin(2*np.pi*256*np.linspace(0,0.5,int(0.5*as1.sr))), label='event').fade_out(0.5, 2).play()"
   ]
  },
  {
   "cell_type": "code",
   "execution_count": null,
   "metadata": {
    "hidden": true
   },
   "outputs": [],
   "source": [
    "for _ in range(100):\n",
    "    as1.add(aev.resample(rate=6+2*np.random.randn()), onset=1.5*np.random.random())\n",
    "as1.norm().plot().play()"
   ]
  },
  {
   "cell_type": "markdown",
   "metadata": {
    "heading_collapsed": true,
    "hidden": true
   },
   "source": [
    "### window"
   ]
  },
  {
   "cell_type": "markdown",
   "metadata": {
    "hidden": true
   },
   "source": [
    "window(win='triang', **kwargs)\n",
    "* applies a window function to the signal \n",
    "* the win argument and optional subsequent kwargs are forwarded to the scipy.signal.get_window(), see documentation there\n",
    "* available functions are:\n",
    "    * boxcar, triang, blackman, hamming, hann, bartlett, flattop, parzen, bohman, blackmanharris, nuttall, barthann, kaiser (needs beta), gaussian (needs standard deviation), general_gaussian (needs power, width), slepian (needs width), dpss (needs normalized half-bandwidth), chebwin (needs attenuation), exponential (needs decay scale), tukey (needs taper fraction)\n",
    "* if parameters are needed, use a tuple instead of a string as first argument"
   ]
  },
  {
   "cell_type": "code",
   "execution_count": null,
   "metadata": {
    "hidden": true
   },
   "outputs": [],
   "source": [
    "anoise.window('hann').plot()\n",
    "anoise.window(('gaussian', 5000)).gain(db=-6).plot()"
   ]
  },
  {
   "cell_type": "markdown",
   "metadata": {
    "heading_collapsed": true,
    "hidden": true
   },
   "source": [
    "### iirfilter"
   ]
  },
  {
   "cell_type": "markdown",
   "metadata": {
    "hidden": true
   },
   "source": [
    "iirfilter(cutoff_freqs, btype='bandpass', ftype='butter', order=4, filter='lfilter', rp=None, rs=None)\n",
    "* filters the signal with an iirfilter \n",
    "* of given ftype = ‘butter’, ‘cheby1’, ‘cheby2’, ‘ellip’, ‘bessel’\n",
    "* of given btype = 'bandpass', 'bandstop', 'lowpass', 'highpass'\n",
    "* of given order (integer)\n",
    "* filtering with given filter method (default 'lfilter' but use 'filtfilt' for forward-backword filtering\n",
    "* note that some filters require maximum ripple dB in rp and minimum passband attenuation dB in rs\n",
    "* returns filtered signal as new signal, setting the _ dict keys 'a' and 'b' with filter coefficients"
   ]
  },
  {
   "cell_type": "code",
   "execution_count": null,
   "metadata": {
    "hidden": true
   },
   "outputs": [],
   "source": [
    "af = anoise.iirfilter([240, 2000], order=4, btype='bandpass', filter='lfilter')\n",
    "afs = af.to_spec().plot(lambda x: ampdb(x)-46, lw=0.2)  # why -46?\n",
    "af.plot_freqz(200, lw=3)\n",
    "plt.ylim(-70,10)\n",
    "plt.semilogx()  # comment out to see linear frequency\n",
    "af._"
   ]
  },
  {
   "cell_type": "markdown",
   "metadata": {
    "heading_collapsed": true,
    "hidden": true
   },
   "source": [
    "### window_op"
   ]
  },
  {
   "cell_type": "markdown",
   "metadata": {
    "hidden": true
   },
   "source": [
    "window_op(nperseg=64, stride=32, win=None, fn='rms', pad='mirror')\n",
    "* performs a windowed operation on the signal\n",
    "* using chunks of nperseg samples\n",
    "* selected at stride stride\n",
    "* applying window win to the chunk (any scipy.signal.window possible)\n",
    "* and subjecting that signal to the function fn (default 'rms')\n",
    "* TODO: implement proper padding, currently first window start is at 0, not centered at 0..."
   ]
  },
  {
   "cell_type": "code",
   "execution_count": null,
   "metadata": {
    "hidden": true
   },
   "outputs": [],
   "source": [
    "# here rms is used in window_op to compute stepwise signal energy, see window_op() below\n",
    "asnap.plot(lw=0.1)\n",
    "asnap.window_op(nperseg=512, stride=256, win='cosine', fn='rms', pad='mirror').plot(lw=3)\n",
    "plt.axis([0,0.4, 0, 0.3]);"
   ]
  },
  {
   "cell_type": "code",
   "execution_count": null,
   "metadata": {
    "hidden": true
   },
   "outputs": [],
   "source": [
    "import scipy"
   ]
  },
  {
   "cell_type": "code",
   "execution_count": null,
   "metadata": {
    "hidden": true
   },
   "outputs": [],
   "source": [
    "# local linear correlation coefficints as signal - signal statistics audification in 3 line of code\n",
    "def lk(a):\n",
    "    return scipy.stats.pearsonr(a.sig, np.arange(a.sig.shape[0]))[0]\n",
    "aword.window_op(8, 2, None, fn=lk).plot(lw=0.05).play()"
   ]
  },
  {
   "cell_type": "markdown",
   "metadata": {
    "heading_collapsed": true,
    "hidden": true
   },
   "source": [
    "### Overlap and add demo"
   ]
  },
  {
   "cell_type": "markdown",
   "metadata": {
    "hidden": true
   },
   "source": [
    "overlap_add(nperseg=64, stride_in=32, stride_out=32, win=None, pad='mirror')\n",
    "* cuts the signal in chunks of lengths nperseg\n",
    "* starting at sample 0 with stride stride_in\n",
    "* applying a window win to the chunks\n",
    "* and adding them together into an empty signal at stride stride_out\n",
    "* TODO: padding needs to be implemented...\n",
    "* by choosing different values for stride_in and stride_out, a granular time stretching can be achieved"
   ]
  },
  {
   "cell_type": "code",
   "execution_count": null,
   "metadata": {
    "hidden": true
   },
   "outputs": [],
   "source": [
    "atest = aword\n",
    "def ola_demo(begin=0.0, end=2.0, nperseg=128, stride_in=64, jitter_in=0, \n",
    "             stride_out=64, jitter_out=0):\n",
    "    b = atest.tslice(begin, end).overlap_add(nperseg, stride_in, stride_out, \n",
    "                    jitter_in=jitter_in, jitter_out=jitter_out, win='triang')\n",
    "    b.plot().norm(0.2).play()\n",
    "interact(ola_demo, nperseg=(64,1024,32), \n",
    "         stride_in=(2, 512, 1), jitter_in=(0,200,10), \n",
    "         stride_out=(2,512,1), jitter_out=(0,200,10));"
   ]
  },
  {
   "cell_type": "markdown",
   "metadata": {
    "heading_collapsed": true,
    "hidden": true
   },
   "source": [
    "### find_events"
   ]
  },
  {
   "cell_type": "markdown",
   "metadata": {
    "hidden": true
   },
   "source": [
    "find_events(self, step_dur=0.001, sil_thr=-20, sil_min_dur=0.1, sil_pad=[0.001,0.1])\n",
    "* detects events separated by silence\n",
    "* criterion for event is exceeding the silence threshold sil_thr (in dB)\n",
    "* ending after silence of at least sil_min_dur seconds is observed\n",
    "* the resulting event is then padded with signal left and right given by sil_pad (in seconds)\n",
    "* find_events returns self, but sets its findings into dict self._ in key 'events'\n",
    "    * which is a ndarray with column 1 all event_start_sample and event_stop_sample in columns"
   ]
  },
  {
   "cell_type": "code",
   "execution_count": null,
   "metadata": {
    "hidden": true
   },
   "outputs": [],
   "source": [
    "aa = Asig(\"samples/vocal_sequence.wav\").plot() #.play()\n",
    "# or record your own...\n",
    "# arec = Asig(record(6.0), label='rec').norm()"
   ]
  },
  {
   "cell_type": "code",
   "execution_count": null,
   "metadata": {
    "hidden": true
   },
   "outputs": [],
   "source": [
    "aa.plot(lambda x: ampdb(abs(x)+1e-3));\n",
    "# obviously events exceed -35 dB, and noise is below that level"
   ]
  },
  {
   "cell_type": "code",
   "execution_count": null,
   "metadata": {
    "hidden": true
   },
   "outputs": [],
   "source": [
    "import time"
   ]
  },
  {
   "cell_type": "code",
   "execution_count": null,
   "metadata": {
    "hidden": true
   },
   "outputs": [],
   "source": [
    "aa.find_events(step_dur=0.001, sil_thr=-35, sil_min_dur=0.1, sil_pad=[0.001,0.05])\n",
    "for i, (a,e) in enumerate(aa._['events']):\n",
    "    aa[a:e].norm().play(block=False)[::20].plot(lambda x: i+0.5*x, lw=0.5, color='r')\n",
    "    time.sleep(0.2)"
   ]
  },
  {
   "cell_type": "code",
   "execution_count": null,
   "metadata": {
    "hidden": true
   },
   "outputs": [],
   "source": [
    "# show all event onsets\n",
    "aa._['events'][:,0]"
   ]
  },
  {
   "cell_type": "markdown",
   "metadata": {
    "heading_collapsed": true,
    "hidden": true
   },
   "source": [
    "### select_event"
   ]
  },
  {
   "cell_type": "markdown",
   "metadata": {
    "hidden": true
   },
   "source": [
    "select_event(index=None, onset=None) \n",
    "* allows to easily select an event in an audio file\n",
    "* for that it uses the _['events'] entry as set either manually or via the above find_events() method\n",
    "* index specifies the number in the list, starting with 0\n",
    "* the event is sliced from the signal using the begin and end samples\n",
    "* an onset argument has priority over index and finds the event whose begin is closest to the onset\n",
    "    * TODO: preferred: the event in which the onset lies should be preferred to the nearest begin..."
   ]
  },
  {
   "cell_type": "code",
   "execution_count": null,
   "metadata": {
    "hidden": true
   },
   "outputs": [],
   "source": [
    "ae = aa.select_event(4).norm(-6).plot().play(0.8)\n",
    "ae"
   ]
  },
  {
   "cell_type": "code",
   "execution_count": null,
   "metadata": {
    "hidden": true
   },
   "outputs": [],
   "source": [
    "aa.select_event(onset=5.2).plot().play()"
   ]
  },
  {
   "cell_type": "markdown",
   "metadata": {
    "heading_collapsed": true,
    "hidden": true
   },
   "source": [
    "### spectrum"
   ]
  },
  {
   "cell_type": "code",
   "execution_count": null,
   "metadata": {
    "hidden": true
   },
   "outputs": [],
   "source": [
    "asnap.spectrum() # computes fft, returns first half"
   ]
  },
  {
   "cell_type": "markdown",
   "metadata": {
    "heading_collapsed": true,
    "hidden": true
   },
   "source": [
    "### plot_spectrum"
   ]
  },
  {
   "cell_type": "code",
   "execution_count": null,
   "metadata": {
    "hidden": true
   },
   "outputs": [],
   "source": [
    "asnap.plot_spectrum(lw=0.5)  #plots spectrum magnitude and phase"
   ]
  },
  {
   "cell_type": "markdown",
   "metadata": {
    "heading_collapsed": true,
    "hidden": true
   },
   "source": [
    "### spectrogram"
   ]
  },
  {
   "cell_type": "code",
   "execution_count": null,
   "metadata": {
    "hidden": true
   },
   "outputs": [],
   "source": [
    "plt.subplot(211); \n",
    "a = asnap.norm().plot('db');plt.xlim(0, 1)\n",
    "freqs, times, S = a.spectrogram(nperseg=512)\n",
    "\n",
    "plt.subplot(212);\n",
    "plt.pcolormesh(times, freqs, ampdb(np.abs(S)+1e-10), cmap='hot')\n",
    "plt.colorbar();"
   ]
  },
  {
   "cell_type": "markdown",
   "metadata": {
    "heading_collapsed": true,
    "hidden": true
   },
   "source": [
    "### to_spec"
   ]
  },
  {
   "cell_type": "markdown",
   "metadata": {
    "heading_collapsed": true,
    "hidden": true
   },
   "source": [
    "### fun stuff..."
   ]
  },
  {
   "cell_type": "code",
   "execution_count": null,
   "metadata": {
    "hidden": true
   },
   "outputs": [],
   "source": [
    "#.to_spec().weight([0,1,0.3, 0.1], [800, 1200, 5500, 12000]).to_sig() #.norm().play()\n",
    "# as3[15000::].tslice(0,0.5).norm().fade_in(0.2).fade_out(0.2).to_spec().weight([0, 1,5,1], [4000, 4001, 9000, 13000]).plot() # to_sig().play(0.5)\n",
    "# gain(amp=1).plot_spectrum()\n",
    "# as3[0:7000].resample(rate=0.125).norm().fade_in(0.2, curve=2).fade_out(0.1, curve=4).play()"
   ]
  },
  {
   "cell_type": "code",
   "execution_count": null,
   "metadata": {
    "hidden": true
   },
   "outputs": [],
   "source": [
    "# aa = Asig(np.random.random(10000)-0.5, 8000)\n",
    "h = asnap[6000:15000].resample(8000).to_spec().weight([0,1,0.2,0], [100, 1510, 1920, 2990], curve=1)\n",
    "h.plot() # rfftspec\n",
    "h.to_sig().norm().gain(0.2).play(1)"
   ]
  },
  {
   "cell_type": "markdown",
   "metadata": {
    "heading_collapsed": true
   },
   "source": [
    "## Asig synthesis/sonification examples"
   ]
  },
  {
   "cell_type": "code",
   "execution_count": null,
   "metadata": {
    "hidden": true
   },
   "outputs": [],
   "source": [
    "sr = 44100\n",
    "t = np.linspace(0, 1, sr)\n",
    "v = np.sin(2*np.pi*101*t**1.5)\n",
    "si = Asig(v, sr, \"chirp\").envelope([0,1,0], [0,0.05,1], curve=1.9)\n",
    "# si.window_op(64, 256, fn=lambda a: np.max(a.sig)).norm(0.9).plot()\n",
    "%time si[::4].window_op(256, 128, fn='rms', win='bartlett').plot()"
   ]
  },
  {
   "cell_type": "code",
   "execution_count": null,
   "metadata": {
    "hidden": true
   },
   "outputs": [],
   "source": [
    "sr = 8000\n",
    "t = np.linspace(0, 0.4, int(sr*0.2))\n",
    "v = np.sin(2*np.pi*200*t**1.1)\n",
    "si = Asig(v, sr, \"chirp\").fade_in(0.01).envelope([0,1,0], [0,0.03,0.2], curve=4).plot().play()"
   ]
  },
  {
   "cell_type": "code",
   "execution_count": null,
   "metadata": {
    "hidden": true
   },
   "outputs": [],
   "source": [
    "son = Asig(np.zeros(5*sr), sr, \"sonification\")"
   ]
  },
  {
   "cell_type": "code",
   "execution_count": null,
   "metadata": {
    "hidden": true
   },
   "outputs": [],
   "source": [
    "for i in range(500):\n",
    "    onset = np.random.randint(0, 4000)/1000\n",
    "    amp = abs((i-250)/250)\n",
    "    son.add(si.resample(sr, rate=1+2*np.random.random()), onset=onset, amp=amp)\n",
    "son.norm().play(1)\n",
    "son.plot();"
   ]
  },
  {
   "cell_type": "markdown",
   "metadata": {
    "heading_collapsed": true
   },
   "source": [
    "## Aspec - Audio Spectrum class"
   ]
  },
  {
   "cell_type": "markdown",
   "metadata": {
    "hidden": true
   },
   "source": [
    "### init"
   ]
  },
  {
   "cell_type": "markdown",
   "metadata": {
    "hidden": true
   },
   "source": [
    "### repr"
   ]
  },
  {
   "cell_type": "markdown",
   "metadata": {
    "hidden": true
   },
   "source": [
    "### plot"
   ]
  },
  {
   "cell_type": "markdown",
   "metadata": {
    "hidden": true
   },
   "source": [
    "### weight"
   ]
  },
  {
   "cell_type": "markdown",
   "metadata": {
    "hidden": true
   },
   "source": [
    "### to_sig"
   ]
  },
  {
   "cell_type": "markdown",
   "metadata": {
    "heading_collapsed": true
   },
   "source": [
    "## Astft - Audio STFT class"
   ]
  },
  {
   "cell_type": "code",
   "execution_count": null,
   "metadata": {
    "hidden": true
   },
   "outputs": [],
   "source": [
    "araw = Asig(record(2), 44100, 'vocal').norm()\n",
    "a = araw[30000:80000].resample(22050)"
   ]
  },
  {
   "cell_type": "code",
   "execution_count": null,
   "metadata": {
    "hidden": true
   },
   "outputs": [],
   "source": [
    "a.norm().play()"
   ]
  },
  {
   "cell_type": "code",
   "execution_count": null,
   "metadata": {
    "hidden": true
   },
   "outputs": [],
   "source": [
    "ast = Astft(a)\n",
    "ast"
   ]
  },
  {
   "cell_type": "code",
   "execution_count": null,
   "metadata": {
    "hidden": true
   },
   "outputs": [],
   "source": [
    "ast.plot(ampdb)"
   ]
  },
  {
   "cell_type": "code",
   "execution_count": null,
   "metadata": {
    "hidden": true
   },
   "outputs": [],
   "source": [
    "nf, nt = ast.stft.shape\n",
    "ast.stft[0:20,70:170]=0.00001"
   ]
  },
  {
   "cell_type": "code",
   "execution_count": null,
   "metadata": {
    "hidden": true
   },
   "outputs": [],
   "source": [
    "ast.plot(np.log10);"
   ]
  },
  {
   "cell_type": "code",
   "execution_count": null,
   "metadata": {
    "hidden": true
   },
   "outputs": [],
   "source": [
    "ast.to_sig().norm(0.8).play()"
   ]
  },
  {
   "cell_type": "code",
   "execution_count": null,
   "metadata": {
    "hidden": true
   },
   "outputs": [],
   "source": []
  }
 ],
 "metadata": {
  "kernelspec": {
   "display_name": "Python 3",
   "language": "python",
   "name": "python3"
  },
  "language_info": {
   "codemirror_mode": {
    "name": "ipython",
    "version": 3
   },
   "file_extension": ".py",
   "mimetype": "text/x-python",
   "name": "python",
   "nbconvert_exporter": "python",
   "pygments_lexer": "ipython3",
   "version": "3.6.8"
  }
 },
 "nbformat": 4,
 "nbformat_minor": 2
}
