{
 "cells": [
  {
   "cell_type": "code",
   "execution_count": 1,
   "metadata": {
    "scrolled": true
   },
   "outputs": [
    {
     "name": "stdout",
     "output_type": "stream",
     "text": [
      "Server Booted\n"
     ]
    },
    {
     "data": {
      "text/plain": [
       "AServer: sr: 44100, blocksize: 256, Stream Active: True\n",
       "Device: Built-in Output, Index: 1"
      ]
     },
     "execution_count": 1,
     "metadata": {},
     "output_type": "execute_result"
    }
   ],
   "source": [
    "import numpy as np\n",
    "from pya import *\n",
    "import time\n",
    "import matplotlib.pyplot as plt\n",
    "s = Aserver()\n",
    "s.boot()"
   ]
  },
  {
   "cell_type": "markdown",
   "metadata": {},
   "source": [
    "### pya ugen test\n",
    "Each function returns an Asig"
   ]
  },
  {
   "cell_type": "markdown",
   "metadata": {},
   "source": [
    "#### sine(freq=440, amp=1.0, dur=1.0, sr=44100, channels=1, cn=None)"
   ]
  },
  {
   "cell_type": "code",
   "execution_count": 4,
   "metadata": {},
   "outputs": [
    {
     "name": "stdout",
     "output_type": "stream",
     "text": [
      "Asig('sine'): 1 x 88200 @ 44100 Hz = 2.000 s\n"
     ]
    },
    {
     "data": {
      "text/plain": [
       "Asig('sine'): 1 x 88200 @ 44100 Hz = 2.000 s"
      ]
     },
     "execution_count": 4,
     "metadata": {},
     "output_type": "execute_result"
    },
    {
     "data": {
      "image/png": "[encoded data removed]",
      "text/plain": [
       "<Figure size 432x288 with 1 Axes>"
      ]
     },
     "metadata": {
      "needs_background": "light"
     },
     "output_type": "display_data"
    }
   ],
   "source": [
    "asine = ugen.sine(dur=2.)\n",
    "asine.plot().play(server=s)"
   ]
  },
  {
   "cell_type": "markdown",
   "metadata": {},
   "source": [
    "#### square(freq=440, amp=1.0, dur=1.0, duty=0.4, sr=44100, channels=1, cn=None)"
   ]
  },
  {
   "cell_type": "code",
   "execution_count": null,
   "metadata": {},
   "outputs": [],
   "source": [
    "asq = ugen.square(dur=2.)\n",
    "asq.play(server=s)"
   ]
  },
  {
   "cell_type": "markdown",
   "metadata": {},
   "source": [
    "#### sawtooth(freq=440, amp=1.0, dur=1.0, width=1., sr=44100, channels=1, cn=None)"
   ]
  },
  {
   "cell_type": "code",
   "execution_count": 7,
   "metadata": {},
   "outputs": [
    {
     "name": "stdout",
     "output_type": "stream",
     "text": [
      "Asig('sawtooth'): 1 x 88200 @ 44100 Hz = 2.000 s\n"
     ]
    },
    {
     "data": {
      "text/plain": [
       "Asig('sawtooth'): 1 x 88200 @ 44100 Hz = 2.000 s"
      ]
     },
     "execution_count": 7,
     "metadata": {},
     "output_type": "execute_result"
    }
   ],
   "source": [
    "asaw = ugen.sawtooth(freq=250, dur=2.)\n",
    "asaw.play(server=s)"
   ]
  },
  {
   "cell_type": "markdown",
   "metadata": {},
   "source": [
    "#### noise(typ=\"white\", amp=1.0, dur=1.0, sr=44100, channels=1, cn=None)\n",
    "typ: white, pink...\n",
    "\n",
    "Maybe more in the future. "
   ]
  },
  {
   "cell_type": "code",
   "execution_count": 3,
   "metadata": {},
   "outputs": [
    {
     "name": "stdout",
     "output_type": "stream",
     "text": [
      "Asig('white'): 1 x 220500 @ 44100 Hz = 5.000 s\n"
     ]
    },
    {
     "data": {
      "text/plain": [
       "Asig('white'): 1 x 220500 @ 44100 Hz = 5.000 s"
      ]
     },
     "execution_count": 3,
     "metadata": {},
     "output_type": "execute_result"
    }
   ],
   "source": [
    "wn = ugen.noise(typ=\"white\", amp=0.5, dur=5.)\n",
    "wn.play(server=s)"
   ]
  },
  {
   "cell_type": "markdown",
   "metadata": {},
   "source": [
    "### Other temporay test"
   ]
  },
  {
   "cell_type": "code",
   "execution_count": null,
   "metadata": {},
   "outputs": [],
   "source": [
    "pink = pink_noise(44100, 44100)"
   ]
  },
  {
   "cell_type": "code",
   "execution_count": null,
   "metadata": {},
   "outputs": [],
   "source": [
    "plt.plot(pink)"
   ]
  },
  {
   "cell_type": "code",
   "execution_count": null,
   "metadata": {},
   "outputs": [],
   "source": [
    "pink"
   ]
  },
  {
   "cell_type": "code",
   "execution_count": null,
   "metadata": {},
   "outputs": [],
   "source": [
    "p = mypinky(44100)"
   ]
  },
  {
   "cell_type": "code",
   "execution_count": null,
   "metadata": {},
   "outputs": [],
   "source": [
    "plt.plot(p)"
   ]
  }
 ],
 "metadata": {
  "kernelspec": {
   "display_name": "Python 3",
   "language": "python",
   "name": "python3"
  },
  "language_info": {
   "codemirror_mode": {
    "name": "ipython",
    "version": 3
   },
   "file_extension": ".py",
   "mimetype": "text/x-python",
   "name": "python",
   "nbconvert_exporter": "python",
   "pygments_lexer": "ipython3",
   "version": "3.7.2"
  }
 },
 "nbformat": 4,
 "nbformat_minor": 2
}
