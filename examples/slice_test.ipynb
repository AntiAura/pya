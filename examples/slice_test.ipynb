{
 "cells": [
  {
   "cell_type": "code",
   "execution_count": 1,
   "metadata": {},
   "outputs": [],
   "source": [
    "import numpy as np\n",
    "from pya import *\n",
    "import time\n",
    "import matplotlib.pyplot as plt"
   ]
  },
  {
   "cell_type": "code",
   "execution_count": 2,
   "metadata": {},
   "outputs": [
    {
     "name": "stdout",
     "output_type": "stream",
     "text": [
      "Server Booted\n"
     ]
    },
    {
     "data": {
      "text/plain": [
       "AServer: sr: 44100, blocksize: 256, Stream Active: True\n",
       "Device: Built-in Output, Index: 1"
      ]
     },
     "execution_count": 2,
     "metadata": {},
     "output_type": "execute_result"
    }
   ],
   "source": [
    "s = Aserver()\n",
    "s.boot()\n",
    "# s.set_device(3, reboot = True)"
   ]
  },
  {
   "cell_type": "code",
   "execution_count": 3,
   "metadata": {},
   "outputs": [
    {
     "data": {
      "text/plain": [
       "Asig('sine'): 1 x 88200 @ 44100 Hz = 2.000 s"
      ]
     },
     "execution_count": 3,
     "metadata": {},
     "output_type": "execute_result"
    }
   ],
   "source": [
    "asine = ugen.sine(dur = 2.)\n",
    "asine"
   ]
  },
  {
   "cell_type": "code",
   "execution_count": 7,
   "metadata": {},
   "outputs": [
    {
     "name": "stdout",
     "output_type": "stream",
     "text": [
      "Asig('sine'): 1 x 88200 @ 44100 Hz = 2.000 s\n"
     ]
    },
    {
     "data": {
      "text/plain": [
       "Asig('sine'): 1 x 88200 @ 44100 Hz = 2.000 s"
      ]
     },
     "execution_count": 7,
     "metadata": {},
     "output_type": "execute_result"
    },
    {
     "data": {
      "image/png": "[encoded data removed]",
      "text/plain": [
       "<Figure size 432x288 with 1 Axes>"
      ]
     },
     "metadata": {
      "needs_background": "light"
     },
     "output_type": "display_data"
    }
   ],
   "source": [
    "asine.play(server = s).plot()"
   ]
  },
  {
   "cell_type": "code",
   "execution_count": 8,
   "metadata": {},
   "outputs": [
    {
     "name": "stderr",
     "output_type": "stream",
     "text": [
      "/Users/jiajunyang/anaconda3/envs/pya/lib/python3.7/site-packages/ipykernel_launcher.py:1: DeprecationWarning: object of type <class 'float'> cannot be safely interpreted as an integer.\n",
      "  \"\"\"Entry point for launching an IPython kernel.\n"
     ]
    },
    {
     "data": {
      "text/plain": [
       "[<matplotlib.lines.Line2D at 0x1c1f12a438>]"
      ]
     },
     "execution_count": 8,
     "metadata": {},
     "output_type": "execute_result"
    },
    {
     "data": {
      "image/png": "[encoded data removed]",
      "text/plain": [
       "<Figure size 432x288 with 1 Axes>"
      ]
     },
     "metadata": {
      "needs_background": "light"
     },
     "output_type": "display_data"
    }
   ],
   "source": [
    "sig = np.sin(2*np.pi*4400*np.linspace(0, 2., 2.*44100))\n",
    "plt.plot(sig)"
   ]
  },
  {
   "cell_type": "code",
   "execution_count": 4,
   "metadata": {},
   "outputs": [
    {
     "name": "stdout",
     "output_type": "stream",
     "text": [
      "Asig('stereo_arrayindexed'): 2 x 176400 @ 44100 Hz = 4.000 s\n"
     ]
    },
    {
     "data": {
      "text/plain": [
       "Asig('stereo'): 2 x 176400 @ 44100 Hz = 4.000 s"
      ]
     },
     "execution_count": 4,
     "metadata": {},
     "output_type": "execute_result"
    }
   ],
   "source": [
    "astereo = Asig(\"samples/stereoTest.wav\", label='stereo', cn = ['l','r'])\n",
    "astereo[::, :].play(server = s)\n",
    "# astereo.plot()\n",
    "astereo"
   ]
  },
  {
   "cell_type": "code",
   "execution_count": null,
   "metadata": {},
   "outputs": [],
   "source": [
    "astereo[Asig.ts(0,0.6,1),:].play(server = s)\n"
   ]
  },
  {
   "cell_type": "code",
   "execution_count": null,
   "metadata": {},
   "outputs": [],
   "source": [
    "asen = Asig(\"samples/sentence.wav\", label='sentence')\n",
    "# asen.play(out = 0,server = s)\n",
    "asen[:].play(server = s)"
   ]
  },
  {
   "cell_type": "code",
   "execution_count": null,
   "metadata": {},
   "outputs": [],
   "source": [
    "asen = asen * 3"
   ]
  },
  {
   "cell_type": "code",
   "execution_count": null,
   "metadata": {},
   "outputs": [],
   "source": [
    "asen.play(server = s)\n"
   ]
  },
  {
   "cell_type": "code",
   "execution_count": null,
   "metadata": {},
   "outputs": [],
   "source": [
    "asen.to_mono([0.1, 0.0]).play(server = s)"
   ]
  },
  {
   "cell_type": "code",
   "execution_count": null,
   "metadata": {},
   "outputs": [],
   "source": [
    "asen.to_stereo([0.3, 0.3]).play(server = s)"
   ]
  },
  {
   "cell_type": "code",
   "execution_count": null,
   "metadata": {},
   "outputs": [],
   "source": [
    "asen"
   ]
  },
  {
   "cell_type": "code",
   "execution_count": null,
   "metadata": {},
   "outputs": [],
   "source": [
    "\n",
    "asen.pan2(-1).play(server = s)\n"
   ]
  },
  {
   "cell_type": "code",
   "execution_count": null,
   "metadata": {},
   "outputs": [],
   "source": [
    "\n",
    "def linlin(x, smi, sma, dmi, dma):\n",
    "    return (x-smi)/(sma-smi)*(dma-dmi) + dmi\n",
    "t = time.time()\n",
    "angle = linlin(0.5, -1, 1, 0, np.pi/2.)\n",
    "a = np.cos(angle)\n",
    "b = np.sin(angle)\n",
    "print (time.time() - t)"
   ]
  },
  {
   "cell_type": "code",
   "execution_count": null,
   "metadata": {},
   "outputs": [],
   "source": [
    "a = np.arange(61632)\n",
    "newsig = np.repeat(a, 2)\n",
    "b = newsig.reshape(-1, 2)\n",
    "print (len(b))"
   ]
  },
  {
   "cell_type": "code",
   "execution_count": null,
   "metadata": {},
   "outputs": [],
   "source": []
  },
  {
   "cell_type": "code",
   "execution_count": null,
   "metadata": {},
   "outputs": [],
   "source": [
    "astereo = Asig(\"samples/stereoTest.wav\", label='stereo')\n",
    "# astereo.play(server = s)\n",
    "# astereo.plot()"
   ]
  },
  {
   "cell_type": "code",
   "execution_count": null,
   "metadata": {},
   "outputs": [],
   "source": [
    "astereo[:40000].plot()"
   ]
  },
  {
   "cell_type": "code",
   "execution_count": null,
   "metadata": {},
   "outputs": [],
   "source": [
    "# astereo[:,1].play(server = s)\n",
    "astereo.play(server = s)"
   ]
  },
  {
   "cell_type": "code",
   "execution_count": null,
   "metadata": {},
   "outputs": [],
   "source": [
    "astereo.plot()"
   ]
  },
  {
   "cell_type": "code",
   "execution_count": null,
   "metadata": {},
   "outputs": [],
   "source": [
    "astereo.pan2(.6).play(server = s)\n",
    "# astereo.plot()"
   ]
  },
  {
   "cell_type": "code",
   "execution_count": null,
   "metadata": {},
   "outputs": [],
   "source": [
    "astereo\n"
   ]
  },
  {
   "cell_type": "code",
   "execution_count": null,
   "metadata": {},
   "outputs": [],
   "source": [
    "astereo.route([0.6, .4]).play(server = s)\n",
    "# astereo.plot()"
   ]
  },
  {
   "cell_type": "code",
   "execution_count": null,
   "metadata": {},
   "outputs": [],
   "source": [
    "a = np.array([1, 2, 3])\n",
    "b = np.array([20, 30, 40])"
   ]
  },
  {
   "cell_type": "code",
   "execution_count": null,
   "metadata": {},
   "outputs": [],
   "source": [
    "c = np.stack((a,b), axis = 1)"
   ]
  },
  {
   "cell_type": "code",
   "execution_count": null,
   "metadata": {},
   "outputs": [],
   "source": [
    "def timeit(method):\n",
    "    def timed(*args, **kw):\n",
    "        ts = time.time()\n",
    "        result = method(*args, **kw)\n",
    "        te = time.time()\n",
    "        if 'log_time' in kw:\n",
    "            name = kw.get('log_name', method.__name__.upper())\n",
    "            kw['log_time'][name] = int((te - ts) * 1000)\n",
    "        else:\n",
    "            print ('%r  %2.2f ms' % \\\n",
    "                  (method.__name__, (te - ts) * 1000))\n",
    "        return result\n",
    "    return timed\n",
    "\n",
    "\n",
    "@timeit\n",
    "def looping(s):\n",
    "    b = s.copy()\n",
    "    return\n",
    "\n",
    "a = looping(np.arange(44100*1000))"
   ]
  },
  {
   "cell_type": "code",
   "execution_count": null,
   "metadata": {},
   "outputs": [],
   "source": [
    "for i, k in enumerate(dictp):\n",
    "    print (k[0])"
   ]
  },
  {
   "cell_type": "code",
   "execution_count": null,
   "metadata": {},
   "outputs": [],
   "source": [
    "max(dictp, key=lambda x: x[1])[1]"
   ]
  },
  {
   "cell_type": "code",
   "execution_count": null,
   "metadata": {},
   "outputs": [],
   "source": [
    "a = np.array([[1,2],[3,4]])\n",
    "a = np.concatenate((a, np.zeros((2, 4))), 1)"
   ]
  },
  {
   "cell_type": "code",
   "execution_count": null,
   "metadata": {},
   "outputs": [],
   "source": [
    "@timeit\n",
    "def add_ch(sig, ch = 3):\n",
    "    new_sig = np.concatenate((sig, np.zeros((sig.shape[0], ch - sig.shape[1]))), 1)\n",
    "    return new_sig\n",
    "@timeit\n",
    "def add_ch2(sig, ch = 3):\n",
    "    new_sig = np.zeros((sig.shape[0], ch))\n",
    "    new_sig[:, :sig.shape[1]] = sig\n",
    "    return new_sig"
   ]
  },
  {
   "cell_type": "code",
   "execution_count": null,
   "metadata": {},
   "outputs": [],
   "source": [
    "a = np.zeros((10000000, 2))"
   ]
  },
  {
   "cell_type": "code",
   "execution_count": null,
   "metadata": {},
   "outputs": [],
   "source": [
    "\n",
    "b = add_ch(a, ch = 4)\n",
    "c = add_ch2(a, ch = 4)\n",
    "# print (b); print (c)"
   ]
  },
  {
   "cell_type": "code",
   "execution_count": null,
   "metadata": {},
   "outputs": [],
   "source": [
    "class myclass():\n",
    "    def __init__(self, s):\n",
    "        self.signal = s\n",
    "        # some others stuff\n",
    "        \n",
    "    def __getitem__(self, index):\n",
    "        print (type(index))\n",
    "        if isinstance(index, int):\n",
    "            start, stop, step = 0, index, 1\n",
    "        elif isinstance(index, slice):\n",
    "            print (index)\n",
    "            start, stop, step = index.indices(len(self.signal))    # index is a slice\n",
    "            self.signal = self.signal[start:stop:step]\n",
    "            return self\n",
    "        elif isinstance(index, list) or isinstance(index, np.ndarray):\n",
    "            self.signal = self.signal[index]\n",
    "        elif isinstance(index, str):\n",
    "            return self._[index]\n",
    "        elif isinstance(index, tuple):\n",
    "            # tuple is used for channel slicing, [:, :2]\n",
    "            print (index)\n",
    "            start0, stop0, step0 = index[0].indices(len(self.signal)) \n",
    "            if isinstance(index[1], slice):\n",
    "                start1, stop1, step1 = index[1].indices(len(self.signal)) \n",
    "                self.signal = self.signal[start0:stop0:step0, start1:stop1:step1]\n",
    "                \n",
    "            elif isinstance(index[1], list):\n",
    "                self.signal = self.signal[start0:stop0:step0, index[1]]        \n",
    "        \n",
    "            elif isinstance(index[1], int):\n",
    "                self.signal = self.signal[start0:stop0:step0, index[1]]\n",
    "                \n",
    "            return self\n",
    "        else:\n",
    "            raise TypeError(\"index must be int, array, or slice\") \n",
    "\n",
    "\n",
    "    def shape(self):\n",
    "        print (self.signal.shape)"
   ]
  },
  {
   "cell_type": "code",
   "execution_count": null,
   "metadata": {},
   "outputs": [],
   "source": [
    "s = np.zeros((1000, 5))\n",
    "c = myclass(s)"
   ]
  },
  {
   "cell_type": "code",
   "execution_count": null,
   "metadata": {},
   "outputs": [],
   "source": [
    "c.signal.shape"
   ]
  },
  {
   "cell_type": "code",
   "execution_count": null,
   "metadata": {},
   "outputs": [],
   "source": [
    "s[:, [1,3]]"
   ]
  },
  {
   "cell_type": "code",
   "execution_count": null,
   "metadata": {},
   "outputs": [],
   "source": [
    "c[0:500].shape()"
   ]
  },
  {
   "cell_type": "code",
   "execution_count": null,
   "metadata": {},
   "outputs": [],
   "source": [
    "c[:,3].shape()"
   ]
  },
  {
   "cell_type": "code",
   "execution_count": null,
   "metadata": {},
   "outputs": [],
   "source": [
    "a = np.array([[1,2,3],[1,2,3],[1,2,3]])\n",
    "a"
   ]
  },
  {
   "cell_type": "code",
   "execution_count": null,
   "metadata": {},
   "outputs": [],
   "source": [
    "typ = np.dtype({'names':('left','right','center'),\n",
    "               'formats':('int16', 'int16', 'int16')})\n",
    "a.astype(typ)"
   ]
  },
  {
   "cell_type": "code",
   "execution_count": null,
   "metadata": {},
   "outputs": [],
   "source": [
    "b =  np.array([[1,2,3],[1,2,3],[1,2,3]], dtype={'names':('name', 'age', 'weight'),\n",
    "                          'formats':('U10', 'i4', 'f8')})\n",
    "b"
   ]
  },
  {
   "cell_type": "code",
   "execution_count": null,
   "metadata": {},
   "outputs": [],
   "source": [
    "data = np.zeros(4, dtype={'names':('name', 'age', 'weight'),\n",
    "                          'formats':('U10', 'i4', 'f8')})\n",
    "name = ['Alice', 'Bob', 'Cathy', 'Doug']\n",
    "age = [25, 45, 37, 19]\n",
    "weight = [55.0, 85.5, 68.0, 61.5]\n",
    "data['name'] = name\n",
    "data['age'] = age\n",
    "data['weight'] = weight\n",
    "print(data)"
   ]
  },
  {
   "cell_type": "code",
   "execution_count": null,
   "metadata": {},
   "outputs": [],
   "source": [
    "for i in data[names]:\n",
    "    print (i)"
   ]
  },
  {
   "cell_type": "code",
   "execution_count": null,
   "metadata": {},
   "outputs": [],
   "source": [
    "class cl():\n",
    "    def __init__(self, s):\n",
    "        self.s = s\n",
    "        self.shape = len(s)\n",
    "        \n",
    "    def __mul__(self, other):\n",
    "        \n",
    "        if isinstance(other, cl):\n",
    "            return cl(self.s * other.s)\n",
    "        else:\n",
    "            return cl(self.s * other)\n",
    "        \n",
    "    def __rmul__(self, other):\n",
    "        if isinstance(other, cl):\n",
    "            return cl(self.s * other.s)\n",
    "        else:\n",
    "            return cl(self.s * other)"
   ]
  },
  {
   "cell_type": "code",
   "execution_count": null,
   "metadata": {},
   "outputs": [],
   "source": [
    "s = 4 * np.ones(10)\n",
    "s2 = 2 * np.ones(10)\n",
    "c1 = cl(s); c2 = cl(s2)"
   ]
  },
  {
   "cell_type": "code",
   "execution_count": null,
   "metadata": {},
   "outputs": [],
   "source": [
    "c3 = c1 * c2"
   ]
  },
  {
   "cell_type": "code",
   "execution_count": null,
   "metadata": {},
   "outputs": [],
   "source": [
    "dic = {col_names[i]: i for i in range(len(col_names))}\n",
    "dic.get('left')\n"
   ]
  },
  {
   "cell_type": "code",
   "execution_count": null,
   "metadata": {},
   "outputs": [],
   "source": [
    "signal =np.ones((100, 3))\n",
    "signal[:,0] *= np.arange(100)\n",
    "col_names = ['left','right','center']\n",
    "# signal = np.array(sigl, dtype = [(n, 'int16') for n in col_names])\n",
    "@timeit\n",
    "def addcolname(s, col_names):\n",
    "    return s.view(dtype=[(n, s.dtype) for n in col_names])\n",
    "a = addcolname(signal, col_names)"
   ]
  },
  {
   "cell_type": "code",
   "execution_count": null,
   "metadata": {},
   "outputs": [],
   "source": [
    "a"
   ]
  },
  {
   "cell_type": "code",
   "execution_count": null,
   "metadata": {},
   "outputs": [],
   "source": [
    "np.array_equal(a['left'], a[:,0])"
   ]
  },
  {
   "cell_type": "code",
   "execution_count": null,
   "metadata": {},
   "outputs": [],
   "source": [
    "np.array_equal(a['left'], signal[:,0])"
   ]
  },
  {
   "cell_type": "code",
   "execution_count": null,
   "metadata": {},
   "outputs": [],
   "source": [
    "def addcolname2(s, col)"
   ]
  },
  {
   "cell_type": "code",
   "execution_count": null,
   "metadata": {},
   "outputs": [],
   "source": [
    "4/abs(None)"
   ]
  },
  {
   "cell_type": "code",
   "execution_count": null,
   "metadata": {},
   "outputs": [],
   "source": []
  }
 ],
 "metadata": {
  "kernelspec": {
   "display_name": "Python 3",
   "language": "python",
   "name": "python3"
  },
  "language_info": {
   "codemirror_mode": {
    "name": "ipython",
    "version": 3
   },
   "file_extension": ".py",
   "mimetype": "text/x-python",
   "name": "python",
   "nbconvert_exporter": "python",
   "pygments_lexer": "ipython3",
   "version": "3.7.2"
  }
 },
 "nbformat": 4,
 "nbformat_minor": 2
}
